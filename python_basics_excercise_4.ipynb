{
 "cells": [
  {
   "cell_type": "markdown",
   "id": "ec24e5fb",
   "metadata": {},
   "source": [
    "## If, elif, else and loops excercises"
   ]
  },
  {
   "cell_type": "markdown",
   "id": "1826e339",
   "metadata": {},
   "source": [
    "### Excercise 1\n",
    "\n",
    "1. Create a list of Espressive members.\n",
    "\n",
    "e.g\n",
    "\n",
    "espressive_members = [\"Rocio\",\"July\",\"Montse\",\"Becca\",\"Diego\",\"Liliana\",\"Ana\",\"Sofia\",\"Vale\",\"Vicky\",\"Carlos\"]\n",
    "\n",
    "Possible possition:\n",
    "\n",
    "- Conversational AI Analyst\n",
    "- Technical Writer\n",
    "- Sales Development Representative\n",
    "- HR Generalist\n",
    "\n",
    "Espressive crew\n",
    "\n",
    "- ELC\n",
    "- Sales\n",
    "- Administration\n",
    "\n",
    "\n",
    "2. Using a loop to iterate over the list:\n",
    "\n",
    "    A) print the correspondent possition for each member\n",
    "    \n",
    "    B) create rules to print the correspondent espressive crew depending on the members"
   ]
  },
  {
   "cell_type": "code",
   "execution_count": 1,
   "id": "afdd14bc",
   "metadata": {},
   "outputs": [],
   "source": [
    "espressive_members = [\"Rocio\",\"July\",\"Montse\",\"Becca\",\"Diego\",\"Liliana\",\"Ana\",\"Sofia\",\"Vale\",\"Vicky\",\"Carlos\",\"Gerry\"]"
   ]
  },
  {
   "cell_type": "code",
   "execution_count": 2,
   "id": "12ff076c",
   "metadata": {},
   "outputs": [
    {
     "name": "stdout",
     "output_type": "stream",
     "text": [
      "Rocio\n",
      "July\n",
      "Montse\n",
      "Becca\n",
      "Diego\n",
      "Liliana\n",
      "Ana\n",
      "Sofia\n",
      "Vale\n",
      "Vicky\n",
      "Carlos\n",
      "Gerry\n"
     ]
    }
   ],
   "source": [
    "for member in espressive_members:\n",
    "    print(member)"
   ]
  },
  {
   "cell_type": "code",
   "execution_count": 14,
   "id": "ae23982b",
   "metadata": {},
   "outputs": [
    {
     "name": "stdout",
     "output_type": "stream",
     "text": [
      "Conversational AI Analyst\n",
      "Conversational AI Analyst\n",
      "Technical Writer\n",
      "Sales Development Representative\n",
      "Technical Writer\n",
      "Conversational AI Analyst\n",
      "Conversational AI Analyst\n",
      "Conversational AI Analyst\n",
      "HR Generalist\n",
      "Technical Writer\n",
      "Conversational AI Analyst\n",
      "Operations Analyst\n"
     ]
    }
   ],
   "source": [
    "for member in espressive_members:\n",
    "    if member == \"Rocio\" or member == \"July\" or member == \"Liliana\" or member == \"Ana\" or member == \"Sofia\" or member == \"Carlos\":\n",
    "        print (\"Conversational AI Analyst\")\n",
    "    if member == \"Montse\" or member == \"Diego\" or member ¿¿: \n",
    "        print (\"Technical Writer\")\n",
    "    if member == \"Becca\":\n",
    "        print (\"Sales Development Representative\")\n",
    "    if member == \"Diego\":\n",
    "        print (\"Technical Writer\")\n",
    "    if member == \"Vale\":\n",
    "        print (\"HR Generalist\")\n",
    "    if member == \"Vicky\":\n",
    "        print (\"Technical Writer\")\n",
    "    if member == \"Gerry\":\n",
    "        print (\"Operations Analyst\")"
   ]
  },
  {
   "cell_type": "code",
   "execution_count": 9,
   "id": "1ba21a53",
   "metadata": {},
   "outputs": [
    {
     "name": "stdout",
     "output_type": "stream",
     "text": [
      "ELC\n",
      "ELC\n",
      "ELC\n",
      "Sales\n",
      "ELC\n",
      "ELC\n",
      "ELC\n",
      "ELC\n",
      "Administration\n",
      "ELC\n",
      "ELC\n",
      "ELC\n"
     ]
    }
   ],
   "source": [
    "for member in espressive_members:\n",
    "    if member == \"Rocio\":\n",
    "        print (\"ELC\")\n",
    "    if member == \"July\":\n",
    "        print (\"ELC\")\n",
    "    if member == \"Montse\":\n",
    "        print (\"ELC\")\n",
    "    if member == \"Becca\":\n",
    "        print (\"Sales\")\n",
    "    if member == \"Diego\":\n",
    "        print (\"ELC\")\n",
    "    if member == \"Liliana\":\n",
    "        print (\"ELC\")\n",
    "    if member == \"Ana\":\n",
    "        print (\"ELC\")\n",
    "    if member == \"Sofia\":\n",
    "        print (\"ELC\")\n",
    "    if member == \"Vale\":\n",
    "        print (\"Administration\")\n",
    "    if member == \"Vicky\":\n",
    "        print (\"ELC\")\n",
    "    if member == \"Carlos\":\n",
    "        print (\"ELC\")\n",
    "    if member == \"Gerry\":\n",
    "        print (\"ELC\")"
   ]
  },
  {
   "cell_type": "markdown",
   "id": "a934a54d",
   "metadata": {},
   "source": [
    "### Excercise 2\n",
    "\n",
    "\"I cannot install Teams\"\n",
    "\n",
    "1. Stored the String in a variable\n",
    "\n",
    "2. Create a list from a that string\n",
    "\n",
    "3. Using position assign the list items to values to the correspondent keys in the dictionary \"Parsed interaction\"\n",
    "\n",
    "parsed_interaction = {\"aux_verb\":\"\",verb\":\"\",\"app\":\"\"}\n",
    "\n",
    "4. Create an algorithm that interate over the dictionary and create the following constrains:\n",
    "\n",
    "    a) diffenciate 'cannot'/'can', each one has to lead to a different intent\n",
    "    \n",
    "    b) differentiate 'install'/'unistall' each one has to lead to a different intent\n",
    "    \n",
    "    c) differentiate 'Teams'/'Zoom'/'google meet' each one has to lead to a different intent\n"
   ]
  },
  {
   "cell_type": "code",
   "execution_count": null,
   "id": "063ced36",
   "metadata": {},
   "outputs": [],
   "source": []
  }
 ],
 "metadata": {
  "kernelspec": {
   "display_name": "Python 3 (ipykernel)",
   "language": "python",
   "name": "python3"
  },
  "language_info": {
   "codemirror_mode": {
    "name": "ipython",
    "version": 3
   },
   "file_extension": ".py",
   "mimetype": "text/x-python",
   "name": "python",
   "nbconvert_exporter": "python",
   "pygments_lexer": "ipython3",
   "version": "3.9.12"
  }
 },
 "nbformat": 4,
 "nbformat_minor": 5
}
