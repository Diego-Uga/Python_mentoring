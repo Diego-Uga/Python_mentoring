{
 "cells": [
  {
   "cell_type": "markdown",
   "id": "a37dd6f8",
   "metadata": {},
   "source": [
    "## Exercises: List and Dictionaries\n"
   ]
  },
  {
   "cell_type": "markdown",
   "id": "0819f22d",
   "metadata": {},
   "source": [
    "1. Create a Python list of strings"
   ]
  },
  {
   "cell_type": "code",
   "execution_count": 1,
   "id": "275d97ae",
   "metadata": {},
   "outputs": [],
   "source": [
    "games = [\"Zelda\",\"Metroid\",\"Sonic\"]"
   ]
  },
  {
   "cell_type": "markdown",
   "id": "21659f72",
   "metadata": {},
   "source": [
    "2. Create a Python list of numbers"
   ]
  },
  {
   "cell_type": "code",
   "execution_count": 2,
   "id": "a604c5e3",
   "metadata": {},
   "outputs": [],
   "source": [
    "myfavnumbers = [3,13,31]"
   ]
  },
  {
   "cell_type": "markdown",
   "id": "3627b330",
   "metadata": {},
   "source": [
    "3. Create a Python list with duplicate values\n"
   ]
  },
  {
   "cell_type": "code",
   "execution_count": 3,
   "id": "31537772",
   "metadata": {},
   "outputs": [],
   "source": [
    "nationalities = [\"German\", \"English\", \"Spanish\", \"German\", \"English\"]"
   ]
  },
  {
   "cell_type": "markdown",
   "id": "73e22428",
   "metadata": {},
   "source": [
    "4. Create a Python list that contains different data type values\n"
   ]
  },
  {
   "cell_type": "code",
   "execution_count": 4,
   "id": "5f32bfeb",
   "metadata": {},
   "outputs": [],
   "source": [
    "Playstation = [\"Crash\", \"God of War\", \"Kingdom Heart\"]"
   ]
  },
  {
   "cell_type": "code",
   "execution_count": 6,
   "id": "ed066c1b",
   "metadata": {},
   "outputs": [],
   "source": [
    "list1 = [1, \"German\", Playstation]"
   ]
  },
  {
   "cell_type": "markdown",
   "id": "522ef68d",
   "metadata": {},
   "source": [
    "5. Create a Python list and find the length of a list in Python\n"
   ]
  },
  {
   "cell_type": "code",
   "execution_count": 7,
   "id": "69983d36",
   "metadata": {},
   "outputs": [],
   "source": [
    "Mexicanfood = (\"tacos\",\"quesadillas\",\"tamales\")"
   ]
  },
  {
   "cell_type": "code",
   "execution_count": 8,
   "id": "619257e3",
   "metadata": {},
   "outputs": [
    {
     "data": {
      "text/plain": [
       "3"
      ]
     },
     "execution_count": 8,
     "metadata": {},
     "output_type": "execute_result"
    }
   ],
   "source": [
    "len(Mexicanfood)"
   ]
  },
  {
   "cell_type": "markdown",
   "id": "3f3762a7",
   "metadata": {},
   "source": [
    "6. Finding the index of items in a Python list\n"
   ]
  },
  {
   "cell_type": "code",
   "execution_count": 12,
   "id": "912cf1cb",
   "metadata": {},
   "outputs": [
    {
     "data": {
      "text/plain": [
       "2"
      ]
     },
     "execution_count": 12,
     "metadata": {},
     "output_type": "execute_result"
    }
   ],
   "source": [
    "Mexicanfood.index(\"tamales\")"
   ]
  },
  {
   "cell_type": "code",
   "execution_count": 14,
   "id": "069c2eea",
   "metadata": {},
   "outputs": [
    {
     "data": {
      "text/plain": [
       "'quesadillas'"
      ]
     },
     "execution_count": 14,
     "metadata": {},
     "output_type": "execute_result"
    }
   ],
   "source": [
    "Mexicanfood[1]"
   ]
  },
  {
   "cell_type": "code",
   "execution_count": 20,
   "id": "c5c5a5c7",
   "metadata": {},
   "outputs": [],
   "source": [
    "fruits = [\"apple\",\"banana\",\"mango\"]"
   ]
  },
  {
   "cell_type": "code",
   "execution_count": 13,
   "id": "b05f00b1",
   "metadata": {},
   "outputs": [],
   "source": [
    "# How can you know the index of an item in a list?"
   ]
  },
  {
   "cell_type": "code",
   "execution_count": 22,
   "id": "65e3b37c",
   "metadata": {},
   "outputs": [
    {
     "data": {
      "text/plain": [
       "1"
      ]
     },
     "execution_count": 22,
     "metadata": {},
     "output_type": "execute_result"
    }
   ],
   "source": [
    "fruits.index(\"banana\")"
   ]
  },
  {
   "cell_type": "code",
   "execution_count": 14,
   "id": "8faaffeb",
   "metadata": {},
   "outputs": [],
   "source": [
    "# Create a variable with the index value of \"banana\" and \"apple\"\n",
    "\n",
    "# Use method print and print the variable values you just created"
   ]
  },
  {
   "cell_type": "code",
   "execution_count": 24,
   "id": "90f32ff9",
   "metadata": {},
   "outputs": [],
   "source": [
    "happyfruits=[]"
   ]
  },
  {
   "cell_type": "code",
   "execution_count": 28,
   "id": "291df397",
   "metadata": {},
   "outputs": [],
   "source": [
    "happyfruits.append(fruits.index(\"apple\"))"
   ]
  },
  {
   "cell_type": "code",
   "execution_count": 30,
   "id": "271dd73d",
   "metadata": {},
   "outputs": [
    {
     "data": {
      "text/plain": [
       "[1, 0]"
      ]
     },
     "execution_count": 30,
     "metadata": {},
     "output_type": "execute_result"
    }
   ],
   "source": [
    "happyfruits"
   ]
  },
  {
   "cell_type": "code",
   "execution_count": 31,
   "id": "7ee51a30",
   "metadata": {},
   "outputs": [],
   "source": [
    "pythonList = [\"p\",\"y\",\"t\",\"h\",\"o\",\"n\"]"
   ]
  },
  {
   "cell_type": "code",
   "execution_count": 6,
   "id": "aeb59ad9",
   "metadata": {},
   "outputs": [],
   "source": [
    "# to get the 1st item"
   ]
  },
  {
   "cell_type": "code",
   "execution_count": 33,
   "id": "76ff46a3",
   "metadata": {},
   "outputs": [
    {
     "data": {
      "text/plain": [
       "'p'"
      ]
     },
     "execution_count": 33,
     "metadata": {},
     "output_type": "execute_result"
    }
   ],
   "source": [
    "pythonList[0]"
   ]
  },
  {
   "cell_type": "code",
   "execution_count": 7,
   "id": "88db0e62",
   "metadata": {},
   "outputs": [],
   "source": [
    "#to get the 4th item"
   ]
  },
  {
   "cell_type": "code",
   "execution_count": 34,
   "id": "95e1ee9e",
   "metadata": {},
   "outputs": [
    {
     "data": {
      "text/plain": [
       "'h'"
      ]
     },
     "execution_count": 34,
     "metadata": {},
     "output_type": "execute_result"
    }
   ],
   "source": [
    "pythonList[3]"
   ]
  },
  {
   "cell_type": "code",
   "execution_count": 8,
   "id": "712c533a",
   "metadata": {},
   "outputs": [],
   "source": [
    "# Negative indexing to get last item"
   ]
  },
  {
   "cell_type": "code",
   "execution_count": 35,
   "id": "c5ef689d",
   "metadata": {},
   "outputs": [
    {
     "data": {
      "text/plain": [
       "'n'"
      ]
     },
     "execution_count": 35,
     "metadata": {},
     "output_type": "execute_result"
    }
   ],
   "source": [
    "pythonList[-1]"
   ]
  },
  {
   "cell_type": "code",
   "execution_count": 9,
   "id": "0bcc4068",
   "metadata": {},
   "outputs": [],
   "source": [
    "# To get second last item"
   ]
  },
  {
   "cell_type": "code",
   "execution_count": 36,
   "id": "43ffceb9",
   "metadata": {},
   "outputs": [
    {
     "data": {
      "text/plain": [
       "'o'"
      ]
     },
     "execution_count": 36,
     "metadata": {},
     "output_type": "execute_result"
    }
   ],
   "source": [
    "pythonList[-2]"
   ]
  },
  {
   "cell_type": "markdown",
   "id": "1a4dd22e",
   "metadata": {},
   "source": [
    "## Slicing"
   ]
  },
  {
   "cell_type": "code",
   "execution_count": 37,
   "id": "7e190f4f",
   "metadata": {},
   "outputs": [],
   "source": [
    "myList = ['p','y','t','h','o','n','i','s','t','a']"
   ]
  },
  {
   "cell_type": "code",
   "execution_count": 16,
   "id": "31e14777",
   "metadata": {},
   "outputs": [],
   "source": [
    "# elements from 5 to 8"
   ]
  },
  {
   "cell_type": "code",
   "execution_count": 38,
   "id": "853dfc9a",
   "metadata": {},
   "outputs": [
    {
     "data": {
      "text/plain": [
       "['o', 'n', 'i']"
      ]
     },
     "execution_count": 38,
     "metadata": {},
     "output_type": "execute_result"
    }
   ],
   "source": [
    "myList[4:7]"
   ]
  },
  {
   "cell_type": "code",
   "execution_count": null,
   "id": "c94d2ebc",
   "metadata": {},
   "outputs": [],
   "source": [
    "# from 1st element to 4th element"
   ]
  },
  {
   "cell_type": "code",
   "execution_count": null,
   "id": "65113ff5",
   "metadata": {},
   "outputs": [],
   "source": [
    "# from 8th element to last element"
   ]
  },
  {
   "cell_type": "code",
   "execution_count": 17,
   "id": "27d35226",
   "metadata": {},
   "outputs": [],
   "source": [
    "# from 1st to last elements"
   ]
  },
  {
   "cell_type": "code",
   "execution_count": 19,
   "id": "4e57a9f2",
   "metadata": {},
   "outputs": [],
   "source": [
    "# write one example of negative slicing"
   ]
  },
  {
   "cell_type": "markdown",
   "id": "499340c5",
   "metadata": {},
   "source": [
    "### Exercise 1\n",
    "\n",
    "Given the following dictionary:"
   ]
  },
  {
   "cell_type": "code",
   "execution_count": 19,
   "id": "76d4a7f7",
   "metadata": {},
   "outputs": [],
   "source": [
    "inventory = {\n",
    "    'gold' : 500,\n",
    "    'pouch' : ['flint', 'twine', 'gemstone'],\n",
    "    'backpack' : ['xylophone','dagger', 'bedroll','bread loaf']\n",
    "}"
   ]
  },
  {
   "cell_type": "markdown",
   "id": "baa60a6a",
   "metadata": {},
   "source": [
    "Try to do the followings:\n",
    "\n",
    "- Add a key to inventory called 'pocket'.\n",
    "- Set the value of 'pocket' to be a list consisting of the strings 'seashell', 'strange berry', and 'lint'.\n",
    "- .sort()the items in the list stored under the 'backpack' key.\n",
    "- Then .remove('dagger') from the list of items stored under the 'backpack' key.\n",
    "- Add 50 to the number stored under the 'gold' key."
   ]
  },
  {
   "cell_type": "code",
   "execution_count": 20,
   "id": "2d4f5448",
   "metadata": {},
   "outputs": [
    {
     "data": {
      "text/plain": [
       "{'gold': 500,\n",
       " 'pouch': ['flint', 'twine', 'gemstone'],\n",
       " 'backpack': ['xylophone', 'dagger', 'bedroll', 'bread loaf']}"
      ]
     },
     "execution_count": 20,
     "metadata": {},
     "output_type": "execute_result"
    }
   ],
   "source": [
    "inventory"
   ]
  },
  {
   "cell_type": "code",
   "execution_count": 21,
   "id": "45b2c0a7",
   "metadata": {},
   "outputs": [],
   "source": [
    "inventory[\"pocket\"] = [\"seashell\", \"strange berry\", \"lint\"]"
   ]
  },
  {
   "cell_type": "code",
   "execution_count": 22,
   "id": "18a0d6dc",
   "metadata": {},
   "outputs": [
    {
     "data": {
      "text/plain": [
       "{'gold': 500,\n",
       " 'pouch': ['flint', 'twine', 'gemstone'],\n",
       " 'backpack': ['xylophone', 'dagger', 'bedroll', 'bread loaf'],\n",
       " 'pocket': ['seashell', 'strange berry', 'lint']}"
      ]
     },
     "execution_count": 22,
     "metadata": {},
     "output_type": "execute_result"
    }
   ],
   "source": [
    "inventory"
   ]
  },
  {
   "cell_type": "code",
   "execution_count": 23,
   "id": "ead17ae3",
   "metadata": {},
   "outputs": [
    {
     "data": {
      "text/plain": [
       "['xylophone', 'dagger', 'bedroll', 'bread loaf']"
      ]
     },
     "execution_count": 23,
     "metadata": {},
     "output_type": "execute_result"
    }
   ],
   "source": [
    "inventory[\"backpack\"]"
   ]
  },
  {
   "cell_type": "code",
   "execution_count": 25,
   "id": "f4a3faf3",
   "metadata": {},
   "outputs": [
    {
     "data": {
      "text/plain": [
       "list"
      ]
     },
     "execution_count": 25,
     "metadata": {},
     "output_type": "execute_result"
    }
   ],
   "source": [
    "type(inventory[\"backpack\"])"
   ]
  },
  {
   "cell_type": "code",
   "execution_count": 26,
   "id": "a2553f48",
   "metadata": {},
   "outputs": [],
   "source": [
    "inventory[\"backpack\"].remove(\"dagger\")"
   ]
  },
  {
   "cell_type": "code",
   "execution_count": 27,
   "id": "9ac41c1d",
   "metadata": {},
   "outputs": [
    {
     "data": {
      "text/plain": [
       "['xylophone', 'bedroll', 'bread loaf']"
      ]
     },
     "execution_count": 27,
     "metadata": {},
     "output_type": "execute_result"
    }
   ],
   "source": [
    "inventory[\"backpack\"]"
   ]
  },
  {
   "cell_type": "code",
   "execution_count": 29,
   "id": "37d98f21",
   "metadata": {},
   "outputs": [],
   "source": [
    "inventory[\"backpack\"].remove(inventory[\"backpack\"][0])"
   ]
  },
  {
   "cell_type": "code",
   "execution_count": 30,
   "id": "2deb1a5f",
   "metadata": {},
   "outputs": [
    {
     "data": {
      "text/plain": [
       "['bedroll', 'bread loaf']"
      ]
     },
     "execution_count": 30,
     "metadata": {},
     "output_type": "execute_result"
    }
   ],
   "source": [
    "inventory[\"backpack\"]"
   ]
  },
  {
   "cell_type": "code",
   "execution_count": 31,
   "id": "f1e6e3b4",
   "metadata": {},
   "outputs": [],
   "source": [
    "inventory[\"pouch\"].sort()"
   ]
  },
  {
   "cell_type": "code",
   "execution_count": 32,
   "id": "2c5a4f18",
   "metadata": {},
   "outputs": [
    {
     "data": {
      "text/plain": [
       "['flint', 'gemstone', 'twine']"
      ]
     },
     "execution_count": 32,
     "metadata": {},
     "output_type": "execute_result"
    }
   ],
   "source": [
    "inventory[\"pouch\"]"
   ]
  },
  {
   "cell_type": "code",
   "execution_count": 33,
   "id": "4556e8da",
   "metadata": {},
   "outputs": [],
   "source": [
    "inventory[\"pouch\"].reverse()"
   ]
  },
  {
   "cell_type": "code",
   "execution_count": 34,
   "id": "8f93dc93",
   "metadata": {},
   "outputs": [
    {
     "data": {
      "text/plain": [
       "['twine', 'gemstone', 'flint']"
      ]
     },
     "execution_count": 34,
     "metadata": {},
     "output_type": "execute_result"
    }
   ],
   "source": [
    "inventory[\"pouch\"]"
   ]
  },
  {
   "cell_type": "code",
   "execution_count": 35,
   "id": "f12129e7",
   "metadata": {},
   "outputs": [
    {
     "data": {
      "text/plain": [
       "500"
      ]
     },
     "execution_count": 35,
     "metadata": {},
     "output_type": "execute_result"
    }
   ],
   "source": [
    "inventory[\"gold\"]"
   ]
  },
  {
   "cell_type": "code",
   "execution_count": 38,
   "id": "f6a90741",
   "metadata": {},
   "outputs": [
    {
     "data": {
      "text/plain": [
       "int"
      ]
     },
     "execution_count": 38,
     "metadata": {},
     "output_type": "execute_result"
    }
   ],
   "source": [
    "type(inventory[\"gold\"])"
   ]
  },
  {
   "cell_type": "code",
   "execution_count": 39,
   "id": "9bd12bac",
   "metadata": {},
   "outputs": [
    {
     "data": {
      "text/plain": [
       "500"
      ]
     },
     "execution_count": 39,
     "metadata": {},
     "output_type": "execute_result"
    }
   ],
   "source": [
    "inventory[\"gold\"]"
   ]
  },
  {
   "cell_type": "code",
   "execution_count": 40,
   "id": "66eaea10",
   "metadata": {},
   "outputs": [
    {
     "data": {
      "text/plain": [
       "550"
      ]
     },
     "execution_count": 40,
     "metadata": {},
     "output_type": "execute_result"
    }
   ],
   "source": [
    "inventory[\"gold\"]+50"
   ]
  },
  {
   "cell_type": "code",
   "execution_count": 43,
   "id": "bd38b355",
   "metadata": {},
   "outputs": [
    {
     "data": {
      "text/plain": [
       "['twine', 'gemstone', 'flint', 'experiment']"
      ]
     },
     "execution_count": 43,
     "metadata": {},
     "output_type": "execute_result"
    }
   ],
   "source": [
    "inventory[\"pouch\"]+[\"experiment\"]"
   ]
  },
  {
   "cell_type": "code",
   "execution_count": 44,
   "id": "b4c06420",
   "metadata": {},
   "outputs": [
    {
     "data": {
      "text/plain": [
       "['twine', 'gemstone', 'flint']"
      ]
     },
     "execution_count": 44,
     "metadata": {},
     "output_type": "execute_result"
    }
   ],
   "source": [
    "inventory[\"pouch\"]"
   ]
  },
  {
   "cell_type": "code",
   "execution_count": 45,
   "id": "247be3d9",
   "metadata": {},
   "outputs": [],
   "source": [
    "inventory[\"pouch\"].append(\"experiment\")"
   ]
  },
  {
   "cell_type": "code",
   "execution_count": 46,
   "id": "d958c44f",
   "metadata": {},
   "outputs": [
    {
     "data": {
      "text/plain": [
       "['twine', 'gemstone', 'flint', 'experiment']"
      ]
     },
     "execution_count": 46,
     "metadata": {},
     "output_type": "execute_result"
    }
   ],
   "source": [
    "inventory[\"pouch\"]"
   ]
  },
  {
   "cell_type": "code",
   "execution_count": 47,
   "id": "dc2342c1",
   "metadata": {},
   "outputs": [
    {
     "data": {
      "text/plain": [
       "500"
      ]
     },
     "execution_count": 47,
     "metadata": {},
     "output_type": "execute_result"
    }
   ],
   "source": [
    "inventory[\"gold\"]"
   ]
  },
  {
   "cell_type": "code",
   "execution_count": 48,
   "id": "a7d54147",
   "metadata": {},
   "outputs": [
    {
     "ename": "AttributeError",
     "evalue": "'int' object has no attribute 'append'",
     "output_type": "error",
     "traceback": [
      "\u001b[0;31m---------------------------------------------------------------------------\u001b[0m",
      "\u001b[0;31mAttributeError\u001b[0m                            Traceback (most recent call last)",
      "Input \u001b[0;32mIn [48]\u001b[0m, in \u001b[0;36m<cell line: 1>\u001b[0;34m()\u001b[0m\n\u001b[0;32m----> 1\u001b[0m \u001b[43minventory\u001b[49m\u001b[43m[\u001b[49m\u001b[38;5;124;43m\"\u001b[39;49m\u001b[38;5;124;43mgold\u001b[39;49m\u001b[38;5;124;43m\"\u001b[39;49m\u001b[43m]\u001b[49m\u001b[38;5;241;43m.\u001b[39;49m\u001b[43mappend\u001b[49m(\u001b[38;5;241m50\u001b[39m)\n",
      "\u001b[0;31mAttributeError\u001b[0m: 'int' object has no attribute 'append'"
     ]
    }
   ],
   "source": [
    "inventory[\"gold\"].append(50)"
   ]
  },
  {
   "cell_type": "code",
   "execution_count": 49,
   "id": "645a8ea7",
   "metadata": {},
   "outputs": [],
   "source": [
    "new_gold = inventory[\"gold\"]+50"
   ]
  },
  {
   "cell_type": "code",
   "execution_count": 50,
   "id": "9ee3b936",
   "metadata": {},
   "outputs": [
    {
     "data": {
      "text/plain": [
       "550"
      ]
     },
     "execution_count": 50,
     "metadata": {},
     "output_type": "execute_result"
    }
   ],
   "source": [
    "new_gold"
   ]
  },
  {
   "cell_type": "code",
   "execution_count": 51,
   "id": "27d3637d",
   "metadata": {},
   "outputs": [],
   "source": [
    "inventory[\"gold\"] = new_gold"
   ]
  },
  {
   "cell_type": "code",
   "execution_count": 52,
   "id": "b1a57628",
   "metadata": {},
   "outputs": [
    {
     "data": {
      "text/plain": [
       "{'gold': 550,\n",
       " 'pouch': ['twine', 'gemstone', 'flint', 'experiment'],\n",
       " 'backpack': ['bedroll', 'bread loaf'],\n",
       " 'pocket': ['seashell', 'strange berry', 'lint']}"
      ]
     },
     "execution_count": 52,
     "metadata": {},
     "output_type": "execute_result"
    }
   ],
   "source": [
    "inventory"
   ]
  },
  {
   "cell_type": "code",
   "execution_count": null,
   "id": "32eeb2c0",
   "metadata": {},
   "outputs": [],
   "source": []
  }
 ],
 "metadata": {
  "kernelspec": {
   "display_name": "Python 3 (ipykernel)",
   "language": "python",
   "name": "python3"
  },
  "language_info": {
   "codemirror_mode": {
    "name": "ipython",
    "version": 3
   },
   "file_extension": ".py",
   "mimetype": "text/x-python",
   "name": "python",
   "nbconvert_exporter": "python",
   "pygments_lexer": "ipython3",
   "version": "3.9.12"
  }
 },
 "nbformat": 4,
 "nbformat_minor": 5
}
