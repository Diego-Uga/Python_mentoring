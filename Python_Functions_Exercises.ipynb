{
 "cells": [
  {
   "cell_type": "markdown",
   "id": "a93920bd",
   "metadata": {},
   "source": [
    "1. Crear una función que va a revisar dos números,\n",
    "si los dos son numeros par debe retornar el de menor valor, \n",
    "si uno o los dos son non debe retornar el de mayor valor.\n",
    "\n",
    "Hint:\n",
    "\n",
    "Cómo saber si un numero es par o non\n",
    "\n",
    "Como obtener el minimo y el maximo de un conjunto de numeros\n"
   ]
  },
  {
   "cell_type": "code",
   "execution_count": 16,
   "id": "e0720fa6",
   "metadata": {},
   "outputs": [],
   "source": [
    "def revision(n1, n2):\n",
    "    if n1 %2 ==0 and n2 %2 ==0:\n",
    "        return min(n1, n2)\n",
    "    else:\n",
    "        return max(n1, n2)"
   ]
  },
  {
   "cell_type": "code",
   "execution_count": 19,
   "id": "517d5452",
   "metadata": {},
   "outputs": [],
   "source": [
    "respuesta = revision(2,8)"
   ]
  },
  {
   "cell_type": "code",
   "execution_count": 20,
   "id": "526380ec",
   "metadata": {},
   "outputs": [
    {
     "data": {
      "text/plain": [
       "2"
      ]
     },
     "execution_count": 20,
     "metadata": {},
     "output_type": "execute_result"
    }
   ],
   "source": [
    "respuesta"
   ]
  },
  {
   "cell_type": "markdown",
   "id": "91108331",
   "metadata": {},
   "source": [
    "Crear un funcion que revise un string de dos palabras y regrese True si las dos comienzan con la misma letra.\n",
    "\n",
    "diego diaz - True\n",
    "\n",
    "monse arenas - False\n",
    "\n",
    "Hint:\n",
    "\n",
    "Comparision Operators\n",
    "\n",
    "Indexing\n",
    "\n",
    "ASCII"
   ]
  },
  {
   "cell_type": "code",
   "execution_count": 1,
   "id": "e7c5150a",
   "metadata": {},
   "outputs": [],
   "source": [
    "def comparison(word1, word2):\n",
    "    if word1[0] == word2[0]:\n",
    "        return True\n",
    "    else:\n",
    "        return False"
   ]
  },
  {
   "cell_type": "code",
   "execution_count": 2,
   "id": "1e8ca2ab",
   "metadata": {},
   "outputs": [
    {
     "data": {
      "text/plain": [
       "True"
      ]
     },
     "execution_count": 2,
     "metadata": {},
     "output_type": "execute_result"
    }
   ],
   "source": [
    "comparison(\"diego\", \"diaz\")"
   ]
  },
  {
   "cell_type": "code",
   "execution_count": 4,
   "id": "2a73a3bf",
   "metadata": {},
   "outputs": [
    {
     "data": {
      "text/plain": [
       "False"
      ]
     },
     "execution_count": 4,
     "metadata": {},
     "output_type": "execute_result"
    }
   ],
   "source": [
    "comparison(\"martha\", \"sanchez\")"
   ]
  },
  {
   "cell_type": "code",
   "execution_count": 6,
   "id": "83ea9bf1",
   "metadata": {},
   "outputs": [
    {
     "data": {
      "text/plain": [
       "True"
      ]
     },
     "execution_count": 6,
     "metadata": {},
     "output_type": "execute_result"
    }
   ],
   "source": [
    "comparison (\"Martha\", \"Martinez\")"
   ]
  },
  {
   "cell_type": "code",
   "execution_count": 7,
   "id": "6779b1d1",
   "metadata": {},
   "outputs": [
    {
     "data": {
      "text/plain": [
       "False"
      ]
     },
     "execution_count": 7,
     "metadata": {},
     "output_type": "execute_result"
    }
   ],
   "source": [
    "comparison(\"Bernardo\", \"Juarez\")"
   ]
  },
  {
   "cell_type": "code",
   "execution_count": null,
   "id": "d6027e6b",
   "metadata": {},
   "outputs": [],
   "source": []
  }
 ],
 "metadata": {
  "kernelspec": {
   "display_name": "Python 3 (ipykernel)",
   "language": "python",
   "name": "python3"
  },
  "language_info": {
   "codemirror_mode": {
    "name": "ipython",
    "version": 3
   },
   "file_extension": ".py",
   "mimetype": "text/x-python",
   "name": "python",
   "nbconvert_exporter": "python",
   "pygments_lexer": "ipython3",
   "version": "3.9.12"
  }
 },
 "nbformat": 4,
 "nbformat_minor": 5
}
