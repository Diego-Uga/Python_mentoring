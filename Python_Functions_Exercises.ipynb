{
 "cells": [
  {
   "cell_type": "markdown",
   "id": "a93920bd",
   "metadata": {},
   "source": [
    "1. Crear una función que va a revisar dos números,\n",
    "si los dos son numeros par debe retornar el de menor valor, \n",
    "si uno o los dos son non debe retornar el de mayor valor.\n",
    "\n",
    "Hint:\n",
    "\n",
    "Cómo saber si un numero es par o non\n",
    "\n",
    "Como obtener el minimo y el maximo de un conjunto de numeros\n"
   ]
  },
  {
   "cell_type": "code",
   "execution_count": 16,
   "id": "e0720fa6",
   "metadata": {},
   "outputs": [],
   "source": [
    "def revision(n1, n2):\n",
    "    if n1 %2 ==0 and n2 %2 ==0:\n",
    "        return min(n1, n2)\n",
    "    else:\n",
    "        return max(n1, n2)"
   ]
  },
  {
   "cell_type": "code",
   "execution_count": 19,
   "id": "517d5452",
   "metadata": {},
   "outputs": [],
   "source": [
    "respuesta = revision(2,8)"
   ]
  },
  {
   "cell_type": "code",
   "execution_count": 20,
   "id": "526380ec",
   "metadata": {},
   "outputs": [
    {
     "data": {
      "text/plain": [
       "2"
      ]
     },
     "execution_count": 20,
     "metadata": {},
     "output_type": "execute_result"
    }
   ],
   "source": [
    "respuesta"
   ]
  },
  {
   "cell_type": "markdown",
   "id": "91108331",
   "metadata": {},
   "source": [
    "2. Crear un funcion que revise un string de dos palabras y regrese True si las dos comienzan con la misma letra.\n",
    "\n",
    "diego diaz - True\n",
    "\n",
    "monse arenas - False\n",
    "\n",
    "Hint:\n",
    "\n",
    "Comparision Operators\n",
    "\n",
    "Indexing\n",
    "\n",
    "ASCII"
   ]
  },
  {
   "cell_type": "code",
   "execution_count": 1,
   "id": "e7c5150a",
   "metadata": {},
   "outputs": [],
   "source": [
    "def comparison(word1, word2):\n",
    "    if word1[0] == word2[0]:\n",
    "        return True\n",
    "    else:\n",
    "        return False"
   ]
  },
  {
   "cell_type": "code",
   "execution_count": 2,
   "id": "1e8ca2ab",
   "metadata": {},
   "outputs": [
    {
     "data": {
      "text/plain": [
       "True"
      ]
     },
     "execution_count": 2,
     "metadata": {},
     "output_type": "execute_result"
    }
   ],
   "source": [
    "comparison(\"diego\", \"diaz\")"
   ]
  },
  {
   "cell_type": "code",
   "execution_count": 4,
   "id": "2a73a3bf",
   "metadata": {},
   "outputs": [
    {
     "data": {
      "text/plain": [
       "False"
      ]
     },
     "execution_count": 4,
     "metadata": {},
     "output_type": "execute_result"
    }
   ],
   "source": [
    "comparison(\"martha\", \"sanchez\")"
   ]
  },
  {
   "cell_type": "code",
   "execution_count": 6,
   "id": "83ea9bf1",
   "metadata": {},
   "outputs": [
    {
     "data": {
      "text/plain": [
       "True"
      ]
     },
     "execution_count": 6,
     "metadata": {},
     "output_type": "execute_result"
    }
   ],
   "source": [
    "comparison (\"Martha\", \"Martinez\")"
   ]
  },
  {
   "cell_type": "code",
   "execution_count": 7,
   "id": "6779b1d1",
   "metadata": {},
   "outputs": [
    {
     "data": {
      "text/plain": [
       "False"
      ]
     },
     "execution_count": 7,
     "metadata": {},
     "output_type": "execute_result"
    }
   ],
   "source": [
    "comparison(\"Bernardo\", \"Juarez\")"
   ]
  },
  {
   "cell_type": "markdown",
   "id": "b0b0e778",
   "metadata": {},
   "source": [
    "3. Yoda style: Crea una funcion que reciba una frase (' yo tengo hambre') y la returne alreves como si fuera Yoda ('hambre tengo yo') NO - erbmah"
   ]
  },
  {
   "cell_type": "code",
   "execution_count": 14,
   "id": "7fe0e059",
   "metadata": {},
   "outputs": [],
   "source": [
    "def yoda_phrase(text):\n",
    "  string = text.split()\n",
    "  string.reverse()\n",
    "  newstring = ' '.join(string)\n",
    "  return newstring"
   ]
  },
  {
   "cell_type": "code",
   "execution_count": 15,
   "id": "f10d1c4e",
   "metadata": {},
   "outputs": [
    {
     "data": {
      "text/plain": [
       "'hambre tengo yo'"
      ]
     },
     "execution_count": 15,
     "metadata": {},
     "output_type": "execute_result"
    }
   ],
   "source": [
    "yoda_phrase(\"yo tengo hambre\")"
   ]
  },
  {
   "cell_type": "markdown",
   "id": "0abdb3c4",
   "metadata": {},
   "source": [
    "4. Crea una funcion que reciba un string ('hola') y returne un string donde cada elemento del string este repetido tres veces ('hhhooolllaaa)"
   ]
  },
  {
   "cell_type": "code",
   "execution_count": 17,
   "id": "f25368b9",
   "metadata": {},
   "outputs": [],
   "source": [
    "def letter_repeater(n, string):\n",
    "    word = ''\n",
    "    for char in list(string):\n",
    "        word += char * n\n",
    "    print (word)"
   ]
  },
  {
   "cell_type": "code",
   "execution_count": 19,
   "id": "10660886",
   "metadata": {},
   "outputs": [
    {
     "name": "stdout",
     "output_type": "stream",
     "text": [
      "hhhooolllaaa\n"
     ]
    }
   ],
   "source": [
    "letter_repeater(3,\"hola\")"
   ]
  },
  {
   "cell_type": "markdown",
   "id": "959cc24b",
   "metadata": {},
   "source": [
    "5. Crea una funcion que revise una lista de numeros integers/enteros ([1,0,3,0,7,6]) y retorne True si contiene la secuencia 007 en orden'"
   ]
  },
  {
   "cell_type": "code",
   "execution_count": 36,
   "id": "0681e7a4",
   "metadata": {},
   "outputs": [],
   "source": [
    "def review(n1,n2,n3,n4,n5):\n",
    "    number_list = n1,n2,n3,n4,n5\n",
    "    for num in number_list:\n",
    "        if num == [0,0,7]:\n",
    "            return True\n",
    "        else:\n",
    "            return False"
   ]
  },
  {
   "cell_type": "code",
   "execution_count": 37,
   "id": "939c703c",
   "metadata": {},
   "outputs": [
    {
     "data": {
      "text/plain": [
       "False"
      ]
     },
     "execution_count": 37,
     "metadata": {},
     "output_type": "execute_result"
    }
   ],
   "source": [
    "review(1,0,0,7,5)"
   ]
  },
  {
   "cell_type": "code",
   "execution_count": 42,
   "id": "fe4d1c47",
   "metadata": {},
   "outputs": [],
   "source": [
    "def comparison2(nombre):\n",
    "    dos_nombres = nombre.split()\n",
    "    #[\"diego\",\"ugalde\"]\n",
    "    if dos_nombres[0][0].upper() == dos_nombres[1][0].upper():\n",
    "        return True\n",
    "    else:\n",
    "        return False"
   ]
  },
  {
   "cell_type": "code",
   "execution_count": 40,
   "id": "9f707c2c",
   "metadata": {},
   "outputs": [
    {
     "data": {
      "text/plain": [
       "False"
      ]
     },
     "execution_count": 40,
     "metadata": {},
     "output_type": "execute_result"
    }
   ],
   "source": [
    "comparison2(\"martha sanchez\")"
   ]
  },
  {
   "cell_type": "code",
   "execution_count": 41,
   "id": "c2c1a2dd",
   "metadata": {},
   "outputs": [
    {
     "data": {
      "text/plain": [
       "True"
      ]
     },
     "execution_count": 41,
     "metadata": {},
     "output_type": "execute_result"
    }
   ],
   "source": [
    "comparison2(\"diego dominguez\")"
   ]
  },
  {
   "cell_type": "code",
   "execution_count": 43,
   "id": "5eff05cb",
   "metadata": {},
   "outputs": [
    {
     "data": {
      "text/plain": [
       "True"
      ]
     },
     "execution_count": 43,
     "metadata": {},
     "output_type": "execute_result"
    }
   ],
   "source": [
    "comparison2(\"diego Dominguez\")"
   ]
  },
  {
   "cell_type": "code",
   "execution_count": 25,
   "id": "5fa6d97b",
   "metadata": {},
   "outputs": [],
   "source": [
    "def comparison3(name1, name2):\n",
    "    if name1[-1].lower() == name2[-1].lower():\n",
    "        return True\n",
    "    else:\n",
    "        return False"
   ]
  },
  {
   "cell_type": "code",
   "execution_count": 26,
   "id": "94ededed",
   "metadata": {},
   "outputs": [
    {
     "data": {
      "text/plain": [
       "True"
      ]
     },
     "execution_count": 26,
     "metadata": {},
     "output_type": "execute_result"
    }
   ],
   "source": [
    "comparison3(\"DiegO\", \"Osvaldo\")"
   ]
  },
  {
   "cell_type": "code",
   "execution_count": 7,
   "id": "0c422486",
   "metadata": {},
   "outputs": [
    {
     "data": {
      "text/plain": [
       "False"
      ]
     },
     "execution_count": 7,
     "metadata": {},
     "output_type": "execute_result"
    }
   ],
   "source": [
    "comparison3(\"Jessica\", \"Marco\")"
   ]
  },
  {
   "cell_type": "code",
   "execution_count": 41,
   "id": "a94f6830",
   "metadata": {},
   "outputs": [],
   "source": [
    "def comparison4(panes):\n",
    "    if panes[0][0].upper() == panes[1][0].upper() == panes[2][0].upper():\n",
    "        return True\n",
    "    else:\n",
    "        return False"
   ]
  },
  {
   "cell_type": "code",
   "execution_count": 3,
   "id": "2801fdba",
   "metadata": {},
   "outputs": [],
   "source": [
    "panes = [\"concha\", \"cuernito\", \"cemita\"]"
   ]
  },
  {
   "cell_type": "code",
   "execution_count": 49,
   "id": "0eb7926a",
   "metadata": {},
   "outputs": [
    {
     "data": {
      "text/plain": [
       "True"
      ]
     },
     "execution_count": 49,
     "metadata": {},
     "output_type": "execute_result"
    }
   ],
   "source": [
    "comparison4(panes)"
   ]
  },
  {
   "cell_type": "code",
   "execution_count": 4,
   "id": "d19b4741",
   "metadata": {},
   "outputs": [],
   "source": [
    "def comparison5(panes):\n",
    "    letra_inicial = panes[0][0]\n",
    "    print(letra_inicial)\n",
    "    index = 0\n",
    "    while index < len(panes):\n",
    "        if panes[index][0] == letra_inicial:\n",
    "            index += 1\n",
    "        else:\n",
    "            return False\n",
    "    return True"
   ]
  },
  {
   "cell_type": "code",
   "execution_count": 5,
   "id": "6280331d",
   "metadata": {},
   "outputs": [
    {
     "name": "stdout",
     "output_type": "stream",
     "text": [
      "c\n"
     ]
    },
    {
     "data": {
      "text/plain": [
       "True"
      ]
     },
     "execution_count": 5,
     "metadata": {},
     "output_type": "execute_result"
    }
   ],
   "source": [
    "comparison5(panes)"
   ]
  },
  {
   "cell_type": "code",
   "execution_count": null,
   "id": "eea5148b",
   "metadata": {},
   "outputs": [],
   "source": []
  }
 ],
 "metadata": {
  "kernelspec": {
   "display_name": "Python 3 (ipykernel)",
   "language": "python",
   "name": "python3"
  },
  "language_info": {
   "codemirror_mode": {
    "name": "ipython",
    "version": 3
   },
   "file_extension": ".py",
   "mimetype": "text/x-python",
   "name": "python",
   "nbconvert_exporter": "python",
   "pygments_lexer": "ipython3",
   "version": "3.9.12"
  }
 },
 "nbformat": 4,
 "nbformat_minor": 5
}
