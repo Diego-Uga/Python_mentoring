{
 "cells": [
  {
   "cell_type": "markdown",
   "id": "a93920bd",
   "metadata": {},
   "source": [
    "1. Crear una función que va a revisar dos números,\n",
    "si los dos son numeros par debe retornar el de menor valor, \n",
    "si uno o los dos son non debe retornar el de mayor valor.\n",
    "\n",
    "Hint:\n",
    "\n",
    "Cómo saber si un numero es par o non\n",
    "\n",
    "Como obtener el minimo y el maximo de un conjunto de numeros\n"
   ]
  },
  {
   "cell_type": "code",
   "execution_count": 16,
   "id": "e0720fa6",
   "metadata": {},
   "outputs": [],
   "source": [
    "def revision(n1, n2):\n",
    "    if n1 %2 ==0 and n2 %2 ==0:\n",
    "        return min(n1, n2)\n",
    "    else:\n",
    "        return max(n1, n2)"
   ]
  },
  {
   "cell_type": "code",
   "execution_count": 19,
   "id": "517d5452",
   "metadata": {},
   "outputs": [],
   "source": [
    "respuesta = revision(2,8)"
   ]
  },
  {
   "cell_type": "code",
   "execution_count": 20,
   "id": "526380ec",
   "metadata": {},
   "outputs": [
    {
     "data": {
      "text/plain": [
       "2"
      ]
     },
     "execution_count": 20,
     "metadata": {},
     "output_type": "execute_result"
    }
   ],
   "source": [
    "respuesta"
   ]
  },
  {
   "cell_type": "code",
   "execution_count": null,
   "id": "41fa57d2",
   "metadata": {},
   "outputs": [],
   "source": []
  }
 ],
 "metadata": {
  "kernelspec": {
   "display_name": "Python 3 (ipykernel)",
   "language": "python",
   "name": "python3"
  },
  "language_info": {
   "codemirror_mode": {
    "name": "ipython",
    "version": 3
   },
   "file_extension": ".py",
   "mimetype": "text/x-python",
   "name": "python",
   "nbconvert_exporter": "python",
   "pygments_lexer": "ipython3",
   "version": "3.9.12"
  }
 },
 "nbformat": 4,
 "nbformat_minor": 5
}
