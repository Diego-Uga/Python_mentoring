{
 "cells": [
  {
   "cell_type": "code",
   "execution_count": null,
   "id": "12deb924",
   "metadata": {},
   "outputs": [],
   "source": [
    "1. create a list of members"
   ]
  },
  {
   "cell_type": "code",
   "execution_count": 4,
   "id": "9c74bfe0",
   "metadata": {},
   "outputs": [],
   "source": [
    "elc_members_name = [\"diego ugalde\", \"mon arenas\", \"vicky cabral\", \"z qiu\", \"pri biswas\", \"carlos yupanqui\", \"ana haza\", \"gerry reynoso\", \"july angeles\", \"chio cerbon\", \"lily torres\" ]"
   ]
  },
  {
   "cell_type": "code",
   "execution_count": 2,
   "id": "0ec43de6",
   "metadata": {},
   "outputs": [],
   "source": [
    "def greeting_3 (fullname):\n",
    "    for name in fullname:\n",
    "        print(f\"Welcome to ML ops team, {name}\")"
   ]
  },
  {
   "cell_type": "code",
   "execution_count": 5,
   "id": "8ff6d051",
   "metadata": {},
   "outputs": [
    {
     "name": "stdout",
     "output_type": "stream",
     "text": [
      "Welcome to ML ops team, diego ugalde\n",
      "Welcome to ML ops team, mon arenas\n",
      "Welcome to ML ops team, vicky cabral\n",
      "Welcome to ML ops team, z qiu\n",
      "Welcome to ML ops team, pri biswas\n",
      "Welcome to ML ops team, carlos yupanqui\n",
      "Welcome to ML ops team, ana haza\n",
      "Welcome to ML ops team, gerry reynoso\n",
      "Welcome to ML ops team, july angeles\n",
      "Welcome to ML ops team, chio cerbon\n",
      "Welcome to ML ops team, lily torres\n"
     ]
    }
   ],
   "source": [
    "greeting_3(elc_members_name) "
   ]
  },
  {
   "cell_type": "code",
   "execution_count": null,
   "id": "22dab009",
   "metadata": {},
   "outputs": [],
   "source": []
  }
 ],
 "metadata": {
  "kernelspec": {
   "display_name": "Python 3 (ipykernel)",
   "language": "python",
   "name": "python3"
  },
  "language_info": {
   "codemirror_mode": {
    "name": "ipython",
    "version": 3
   },
   "file_extension": ".py",
   "mimetype": "text/x-python",
   "name": "python",
   "nbconvert_exporter": "python",
   "pygments_lexer": "ipython3",
   "version": "3.9.12"
  }
 },
 "nbformat": 4,
 "nbformat_minor": 5
}
