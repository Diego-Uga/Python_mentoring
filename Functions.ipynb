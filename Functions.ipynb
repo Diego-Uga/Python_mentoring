{
 "cells": [
  {
   "cell_type": "code",
   "execution_count": null,
   "id": "12deb924",
   "metadata": {},
   "outputs": [],
   "source": [
    "1. create a list of members"
   ]
  },
  {
   "cell_type": "code",
   "execution_count": 10,
   "id": "9c74bfe0",
   "metadata": {},
   "outputs": [],
   "source": [
    "elc_members_name = [\"diego ugalde\", \"mon arenas\", \"vicky cabral\", \"z qiu\", \"pri biswas\", \"carlos yupanqui\", \"ana haza\", \"gerry reynoso\", \"july angeles\", \"chio cerbon\", \"lily torres\" ]"
   ]
  },
  {
   "cell_type": "code",
   "execution_count": 16,
   "id": "0ec43de6",
   "metadata": {},
   "outputs": [],
   "source": [
    "def greeting_3(fullname):\n",
    "    for name in fullname:\n",
    "        #print(name.split())\n",
    "        name_list = name.split()\n",
    "        #print(name.capitalize())\n",
    "        #capitalize_name = name.capitalize()\n",
    "        #print(capitalize_name)\n",
    "        name_elc = name_list[0].captialize() + '' + name_list[1].capitalize()\n",
    "        print(f\"Welcome to ML Ops team, {name_elc}\")\n",
    "        print(name_elc)"
   ]
  },
  {
   "cell_type": "code",
   "execution_count": 17,
   "id": "8ff6d051",
   "metadata": {},
   "outputs": [
    {
     "ename": "AttributeError",
     "evalue": "'str' object has no attribute 'captialize'",
     "output_type": "error",
     "traceback": [
      "\u001b[0;31m---------------------------------------------------------------------------\u001b[0m",
      "\u001b[0;31mAttributeError\u001b[0m                            Traceback (most recent call last)",
      "Input \u001b[0;32mIn [17]\u001b[0m, in \u001b[0;36m<cell line: 1>\u001b[0;34m()\u001b[0m\n\u001b[0;32m----> 1\u001b[0m \u001b[43mgreeting_3\u001b[49m\u001b[43m(\u001b[49m\u001b[43melc_members_name\u001b[49m\u001b[43m)\u001b[49m\n",
      "Input \u001b[0;32mIn [16]\u001b[0m, in \u001b[0;36mgreeting_3\u001b[0;34m(fullname)\u001b[0m\n\u001b[1;32m      4\u001b[0m name_list \u001b[38;5;241m=\u001b[39m name\u001b[38;5;241m.\u001b[39msplit()\n\u001b[1;32m      5\u001b[0m \u001b[38;5;66;03m#print(name.capitalize())\u001b[39;00m\n\u001b[1;32m      6\u001b[0m \u001b[38;5;66;03m#capitalize_name = name.capitalize()\u001b[39;00m\n\u001b[1;32m      7\u001b[0m \u001b[38;5;66;03m#print(capitalize_name)\u001b[39;00m\n\u001b[0;32m----> 8\u001b[0m name_elc \u001b[38;5;241m=\u001b[39m \u001b[43mname_list\u001b[49m\u001b[43m[\u001b[49m\u001b[38;5;241;43m0\u001b[39;49m\u001b[43m]\u001b[49m\u001b[38;5;241;43m.\u001b[39;49m\u001b[43mcaptialize\u001b[49m() \u001b[38;5;241m+\u001b[39m \u001b[38;5;124m'\u001b[39m\u001b[38;5;124m'\u001b[39m \u001b[38;5;241m+\u001b[39m name_list[\u001b[38;5;241m1\u001b[39m]\u001b[38;5;241m.\u001b[39mcapitalize()\n\u001b[1;32m      9\u001b[0m \u001b[38;5;28mprint\u001b[39m(\u001b[38;5;124mf\u001b[39m\u001b[38;5;124m\"\u001b[39m\u001b[38;5;124mWelcome to ML Ops team, \u001b[39m\u001b[38;5;132;01m{\u001b[39;00mname_elc\u001b[38;5;132;01m}\u001b[39;00m\u001b[38;5;124m\"\u001b[39m)\n\u001b[1;32m     10\u001b[0m \u001b[38;5;28mprint\u001b[39m(name_elc)\n",
      "\u001b[0;31mAttributeError\u001b[0m: 'str' object has no attribute 'captialize'"
     ]
    }
   ],
   "source": [
    "greeting_3(elc_members_name)"
   ]
  },
  {
   "cell_type": "code",
   "execution_count": 13,
   "id": "22dab009",
   "metadata": {},
   "outputs": [
    {
     "name": "stdout",
     "output_type": "stream",
     "text": [
      "Diego ugalde\n",
      "Diego ugalde\n",
      "Mon arenas\n",
      "Mon arenas\n",
      "Vicky cabral\n",
      "Vicky cabral\n",
      "Z qiu\n",
      "Z qiu\n",
      "Pri biswas\n",
      "Pri biswas\n",
      "Carlos yupanqui\n",
      "Carlos yupanqui\n",
      "Ana haza\n",
      "Ana haza\n",
      "Gerry reynoso\n",
      "Gerry reynoso\n",
      "July angeles\n",
      "July angeles\n",
      "Chio cerbon\n",
      "Chio cerbon\n",
      "Lily torres\n",
      "Lily torres\n"
     ]
    }
   ],
   "source": [
    "greeting_3(elc_members_name)"
   ]
  },
  {
   "cell_type": "code",
   "execution_count": 14,
   "id": "0dcfb246",
   "metadata": {},
   "outputs": [],
   "source": [
    "test_str = \"Geeks  forGeeks\""
   ]
  },
  {
   "cell_type": "code",
   "execution_count": 15,
   "id": "4cd4c258",
   "metadata": {},
   "outputs": [
    {
     "name": "stdout",
     "output_type": "stream",
     "text": [
      "Geeks  forGeeks\n"
     ]
    }
   ],
   "source": [
    "print(test_str)"
   ]
  },
  {
   "cell_type": "code",
   "execution_count": 16,
   "id": "39f2d2b6",
   "metadata": {},
   "outputs": [],
   "source": [
    "res = \" \" in test_str"
   ]
  },
  {
   "cell_type": "code",
   "execution_count": 17,
   "id": "75a0fa8b",
   "metadata": {},
   "outputs": [
    {
     "name": "stdout",
     "output_type": "stream",
     "text": [
      "True\n"
     ]
    }
   ],
   "source": [
    "print(res)"
   ]
  },
  {
   "cell_type": "code",
   "execution_count": 19,
   "id": "215aeeb0",
   "metadata": {},
   "outputs": [
    {
     "name": "stdout",
     "output_type": "stream",
     "text": [
      "Diego ugalde\n",
      "Diego ugalde\n",
      "Mon arenas\n",
      "Mon arenas\n",
      "Vicky cabral\n",
      "Vicky cabral\n",
      "Z qiu\n",
      "Z qiu\n",
      "Pri biswas\n",
      "Pri biswas\n",
      "Carlos yupanqui\n",
      "Carlos yupanqui\n",
      "Ana haza\n",
      "Ana haza\n",
      "Gerry reynoso\n",
      "Gerry reynoso\n",
      "July angeles\n",
      "July angeles\n",
      "Chio cerbon\n",
      "Chio cerbon\n",
      "Lily torres\n",
      "Lily torres\n"
     ]
    }
   ],
   "source": [
    "greeting_3(elc_members_name)"
   ]
  },
  {
   "cell_type": "code",
   "execution_count": 11,
   "id": "515c7689",
   "metadata": {},
   "outputs": [],
   "source": [
    "def revisar_chio(nombre):\n",
    "    while nombre != \"Chio\":\n",
    "        print(\"Tu no eres Rocio\")\n",
    "        nombre = input(\"Cuál es tu nombre?\")"
   ]
  },
  {
   "cell_type": "code",
   "execution_count": 10,
   "id": "f45106cf",
   "metadata": {},
   "outputs": [],
   "source": [
    "nombre_sugerido = \"Ana\""
   ]
  },
  {
   "cell_type": "code",
   "execution_count": 12,
   "id": "c8e83c79",
   "metadata": {},
   "outputs": [
    {
     "name": "stdout",
     "output_type": "stream",
     "text": [
      "Tu no eres Rocio\n",
      "Cuál es tu nombre?Diego\n",
      "Tu no eres Rocio\n"
     ]
    },
    {
     "ename": "KeyboardInterrupt",
     "evalue": "Interrupted by user",
     "output_type": "error",
     "traceback": [
      "\u001b[0;31m---------------------------------------------------------------------------\u001b[0m",
      "\u001b[0;31mKeyboardInterrupt\u001b[0m                         Traceback (most recent call last)",
      "Input \u001b[0;32mIn [12]\u001b[0m, in \u001b[0;36m<cell line: 1>\u001b[0;34m()\u001b[0m\n\u001b[0;32m----> 1\u001b[0m \u001b[43mrevisar_chio\u001b[49m\u001b[43m(\u001b[49m\u001b[43mnombre_sugerido\u001b[49m\u001b[43m)\u001b[49m\n",
      "Input \u001b[0;32mIn [11]\u001b[0m, in \u001b[0;36mrevisar_chio\u001b[0;34m(nombre)\u001b[0m\n\u001b[1;32m      2\u001b[0m \u001b[38;5;28;01mwhile\u001b[39;00m nombre \u001b[38;5;241m!=\u001b[39m \u001b[38;5;124m\"\u001b[39m\u001b[38;5;124mChio\u001b[39m\u001b[38;5;124m\"\u001b[39m:\n\u001b[1;32m      3\u001b[0m     \u001b[38;5;28mprint\u001b[39m(\u001b[38;5;124m\"\u001b[39m\u001b[38;5;124mTu no eres Rocio\u001b[39m\u001b[38;5;124m\"\u001b[39m)\n\u001b[0;32m----> 4\u001b[0m     nombre \u001b[38;5;241m=\u001b[39m \u001b[38;5;28;43minput\u001b[39;49m\u001b[43m(\u001b[49m\u001b[38;5;124;43m\"\u001b[39;49m\u001b[38;5;124;43mCuál es tu nombre?\u001b[39;49m\u001b[38;5;124;43m\"\u001b[39;49m\u001b[43m)\u001b[49m\n",
      "File \u001b[0;32m/opt/anaconda3/lib/python3.9/site-packages/ipykernel/kernelbase.py:1075\u001b[0m, in \u001b[0;36mKernel.raw_input\u001b[0;34m(self, prompt)\u001b[0m\n\u001b[1;32m   1071\u001b[0m \u001b[38;5;28;01mif\u001b[39;00m \u001b[38;5;129;01mnot\u001b[39;00m \u001b[38;5;28mself\u001b[39m\u001b[38;5;241m.\u001b[39m_allow_stdin:\n\u001b[1;32m   1072\u001b[0m     \u001b[38;5;28;01mraise\u001b[39;00m StdinNotImplementedError(\n\u001b[1;32m   1073\u001b[0m         \u001b[38;5;124m\"\u001b[39m\u001b[38;5;124mraw_input was called, but this frontend does not support input requests.\u001b[39m\u001b[38;5;124m\"\u001b[39m\n\u001b[1;32m   1074\u001b[0m     )\n\u001b[0;32m-> 1075\u001b[0m \u001b[38;5;28;01mreturn\u001b[39;00m \u001b[38;5;28;43mself\u001b[39;49m\u001b[38;5;241;43m.\u001b[39;49m\u001b[43m_input_request\u001b[49m\u001b[43m(\u001b[49m\n\u001b[1;32m   1076\u001b[0m \u001b[43m    \u001b[49m\u001b[38;5;28;43mstr\u001b[39;49m\u001b[43m(\u001b[49m\u001b[43mprompt\u001b[49m\u001b[43m)\u001b[49m\u001b[43m,\u001b[49m\n\u001b[1;32m   1077\u001b[0m \u001b[43m    \u001b[49m\u001b[38;5;28;43mself\u001b[39;49m\u001b[38;5;241;43m.\u001b[39;49m\u001b[43m_parent_ident\u001b[49m\u001b[43m[\u001b[49m\u001b[38;5;124;43m\"\u001b[39;49m\u001b[38;5;124;43mshell\u001b[39;49m\u001b[38;5;124;43m\"\u001b[39;49m\u001b[43m]\u001b[49m\u001b[43m,\u001b[49m\n\u001b[1;32m   1078\u001b[0m \u001b[43m    \u001b[49m\u001b[38;5;28;43mself\u001b[39;49m\u001b[38;5;241;43m.\u001b[39;49m\u001b[43mget_parent\u001b[49m\u001b[43m(\u001b[49m\u001b[38;5;124;43m\"\u001b[39;49m\u001b[38;5;124;43mshell\u001b[39;49m\u001b[38;5;124;43m\"\u001b[39;49m\u001b[43m)\u001b[49m\u001b[43m,\u001b[49m\n\u001b[1;32m   1079\u001b[0m \u001b[43m    \u001b[49m\u001b[43mpassword\u001b[49m\u001b[38;5;241;43m=\u001b[39;49m\u001b[38;5;28;43;01mFalse\u001b[39;49;00m\u001b[43m,\u001b[49m\n\u001b[1;32m   1080\u001b[0m \u001b[43m\u001b[49m\u001b[43m)\u001b[49m\n",
      "File \u001b[0;32m/opt/anaconda3/lib/python3.9/site-packages/ipykernel/kernelbase.py:1120\u001b[0m, in \u001b[0;36mKernel._input_request\u001b[0;34m(self, prompt, ident, parent, password)\u001b[0m\n\u001b[1;32m   1117\u001b[0m             \u001b[38;5;28;01mbreak\u001b[39;00m\n\u001b[1;32m   1118\u001b[0m \u001b[38;5;28;01mexcept\u001b[39;00m \u001b[38;5;167;01mKeyboardInterrupt\u001b[39;00m:\n\u001b[1;32m   1119\u001b[0m     \u001b[38;5;66;03m# re-raise KeyboardInterrupt, to truncate traceback\u001b[39;00m\n\u001b[0;32m-> 1120\u001b[0m     \u001b[38;5;28;01mraise\u001b[39;00m \u001b[38;5;167;01mKeyboardInterrupt\u001b[39;00m(\u001b[38;5;124m\"\u001b[39m\u001b[38;5;124mInterrupted by user\u001b[39m\u001b[38;5;124m\"\u001b[39m) \u001b[38;5;28;01mfrom\u001b[39;00m \u001b[38;5;28mNone\u001b[39m\n\u001b[1;32m   1121\u001b[0m \u001b[38;5;28;01mexcept\u001b[39;00m \u001b[38;5;167;01mException\u001b[39;00m:\n\u001b[1;32m   1122\u001b[0m     \u001b[38;5;28mself\u001b[39m\u001b[38;5;241m.\u001b[39mlog\u001b[38;5;241m.\u001b[39mwarning(\u001b[38;5;124m\"\u001b[39m\u001b[38;5;124mInvalid Message:\u001b[39m\u001b[38;5;124m\"\u001b[39m, exc_info\u001b[38;5;241m=\u001b[39m\u001b[38;5;28;01mTrue\u001b[39;00m)\n",
      "\u001b[0;31mKeyboardInterrupt\u001b[0m: Interrupted by user"
     ]
    }
   ],
   "source": [
    "revisar_chio(nombre_sugerido)"
   ]
  },
  {
   "cell_type": "code",
   "execution_count": null,
   "id": "22278dc8",
   "metadata": {},
   "outputs": [],
   "source": [
    "#Ejercicio\n",
    "#1.El usuario va a pedir una bebida.\n",
    "#2. La función va a revisar que exista la bebida que el usuario le pide.\n",
    "#3. Mientras la bebida no exista, la función debe seguir preguntando.\n"
   ]
  },
  {
   "cell_type": "code",
   "execution_count": 52,
   "id": "14a68f9a",
   "metadata": {},
   "outputs": [],
   "source": [
    "#menu_Barista = (\"latte\", \"capuchino\", \"americano\", \"espreso\", \"té chai\")"
   ]
  },
  {
   "cell_type": "code",
   "execution_count": 68,
   "id": "9f245eb5",
   "metadata": {},
   "outputs": [],
   "source": [
    "#def guess_Barista():\n",
    "    #while bebida not in menu_Barista:\n",
    "        #print(\"No hay, sorry.\")\n",
    "        #bebida = input(\"Elige una bebida.\")\n",
    "    #return bebida"
   ]
  },
  {
   "cell_type": "code",
   "execution_count": 1,
   "id": "0e280861",
   "metadata": {},
   "outputs": [],
   "source": [
    "#guess_Barista(menu_Barista)"
   ]
  },
  {
   "cell_type": "code",
   "execution_count": 70,
   "id": "f159e03f",
   "metadata": {},
   "outputs": [],
   "source": [
    "#menu_Barista = (\"latte\", \"capuchino\", \"americano\", \"espreso\", \"té chai\")"
   ]
  },
  {
   "cell_type": "code",
   "execution_count": 14,
   "id": "dbaaa25b",
   "metadata": {},
   "outputs": [],
   "source": [
    "def Barista_menu(bebida):\n",
    "    while bebida not in bebida_list:\n",
    "        print (\"Sorry, no hay.\")\n",
    "        bebida = input(\"¿Qué desea pedir?\")\n",
    "    return bebida"
   ]
  },
  {
   "cell_type": "code",
   "execution_count": 15,
   "id": "b79370c0",
   "metadata": {},
   "outputs": [],
   "source": [
    "def trabajando(bebida_elegida):\n",
    "    print(f\"Estoy trabajando en tu {bebida_elegida}\")"
   ]
  },
  {
   "cell_type": "code",
   "execution_count": 16,
   "id": "680f0730",
   "metadata": {},
   "outputs": [],
   "source": [
    "bebida_list = (\"capuchino\", \"frappe\", \"chocolate caliente\", \"moka\")"
   ]
  },
  {
   "cell_type": "code",
   "execution_count": 17,
   "id": "9f411779",
   "metadata": {},
   "outputs": [
    {
     "name": "stdout",
     "output_type": "stream",
     "text": [
      "Sorry, no hay.\n",
      "¿Qué desea pedir? frapuchino\n",
      "Sorry, no hay.\n",
      "¿Qué desea pedir?chocolate caliente\n"
     ]
    }
   ],
   "source": [
    "Bebida_elegida_menu = Barista_menu(bebida_list)"
   ]
  },
  {
   "cell_type": "code",
   "execution_count": 18,
   "id": "ccda092e",
   "metadata": {},
   "outputs": [
    {
     "name": "stdout",
     "output_type": "stream",
     "text": [
      "Estoy trabajando en tu chocolate caliente\n"
     ]
    }
   ],
   "source": [
    "trabajando(Bebida_elegida_menu)"
   ]
  },
  {
   "cell_type": "code",
   "execution_count": null,
   "id": "1462276d",
   "metadata": {},
   "outputs": [],
   "source": []
  }
 ],
 "metadata": {
  "kernelspec": {
   "display_name": "Python 3 (ipykernel)",
   "language": "python",
   "name": "python3"
  },
  "language_info": {
   "codemirror_mode": {
    "name": "ipython",
    "version": 3
   },
   "file_extension": ".py",
   "mimetype": "text/x-python",
   "name": "python",
   "nbconvert_exporter": "python",
   "pygments_lexer": "ipython3",
   "version": "3.9.12"
  }
 },
 "nbformat": 4,
 "nbformat_minor": 5
}
