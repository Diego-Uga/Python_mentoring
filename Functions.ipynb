{
 "cells": [
  {
   "cell_type": "code",
   "execution_count": null,
   "id": "12deb924",
   "metadata": {},
   "outputs": [],
   "source": [
    "1. create a list of members"
   ]
  },
  {
   "cell_type": "code",
   "execution_count": 10,
   "id": "9c74bfe0",
   "metadata": {},
   "outputs": [],
   "source": [
    "elc_members_name = [\"diego ugalde\", \"mon arenas\", \"vicky cabral\", \"z qiu\", \"pri biswas\", \"carlos yupanqui\", \"ana haza\", \"gerry reynoso\", \"july angeles\", \"chio cerbon\", \"lily torres\" ]"
   ]
  },
  {
   "cell_type": "code",
   "execution_count": 16,
   "id": "0ec43de6",
   "metadata": {},
   "outputs": [],
   "source": [
    "def greeting_3(fullname):\n",
    "    for name in fullname:\n",
    "        #print(name.split())\n",
    "        name_list = name.split()\n",
    "        #print(name.capitalize())\n",
    "        #capitalize_name = name.capitalize()\n",
    "        #print(capitalize_name)\n",
    "        name_elc = name_list[0].captialize() + '' + name_list[1].capitalize()\n",
    "        print(f\"Welcome to ML Ops team, {name_elc}\")\n",
    "        print(name_elc)"
   ]
  },
  {
   "cell_type": "code",
   "execution_count": 17,
   "id": "8ff6d051",
   "metadata": {},
   "outputs": [
    {
     "ename": "AttributeError",
     "evalue": "'str' object has no attribute 'captialize'",
     "output_type": "error",
     "traceback": [
      "\u001b[0;31m---------------------------------------------------------------------------\u001b[0m",
      "\u001b[0;31mAttributeError\u001b[0m                            Traceback (most recent call last)",
      "Input \u001b[0;32mIn [17]\u001b[0m, in \u001b[0;36m<cell line: 1>\u001b[0;34m()\u001b[0m\n\u001b[0;32m----> 1\u001b[0m \u001b[43mgreeting_3\u001b[49m\u001b[43m(\u001b[49m\u001b[43melc_members_name\u001b[49m\u001b[43m)\u001b[49m\n",
      "Input \u001b[0;32mIn [16]\u001b[0m, in \u001b[0;36mgreeting_3\u001b[0;34m(fullname)\u001b[0m\n\u001b[1;32m      4\u001b[0m name_list \u001b[38;5;241m=\u001b[39m name\u001b[38;5;241m.\u001b[39msplit()\n\u001b[1;32m      5\u001b[0m \u001b[38;5;66;03m#print(name.capitalize())\u001b[39;00m\n\u001b[1;32m      6\u001b[0m \u001b[38;5;66;03m#capitalize_name = name.capitalize()\u001b[39;00m\n\u001b[1;32m      7\u001b[0m \u001b[38;5;66;03m#print(capitalize_name)\u001b[39;00m\n\u001b[0;32m----> 8\u001b[0m name_elc \u001b[38;5;241m=\u001b[39m \u001b[43mname_list\u001b[49m\u001b[43m[\u001b[49m\u001b[38;5;241;43m0\u001b[39;49m\u001b[43m]\u001b[49m\u001b[38;5;241;43m.\u001b[39;49m\u001b[43mcaptialize\u001b[49m() \u001b[38;5;241m+\u001b[39m \u001b[38;5;124m'\u001b[39m\u001b[38;5;124m'\u001b[39m \u001b[38;5;241m+\u001b[39m name_list[\u001b[38;5;241m1\u001b[39m]\u001b[38;5;241m.\u001b[39mcapitalize()\n\u001b[1;32m      9\u001b[0m \u001b[38;5;28mprint\u001b[39m(\u001b[38;5;124mf\u001b[39m\u001b[38;5;124m\"\u001b[39m\u001b[38;5;124mWelcome to ML Ops team, \u001b[39m\u001b[38;5;132;01m{\u001b[39;00mname_elc\u001b[38;5;132;01m}\u001b[39;00m\u001b[38;5;124m\"\u001b[39m)\n\u001b[1;32m     10\u001b[0m \u001b[38;5;28mprint\u001b[39m(name_elc)\n",
      "\u001b[0;31mAttributeError\u001b[0m: 'str' object has no attribute 'captialize'"
     ]
    }
   ],
   "source": [
    "greeting_3(elc_members_name)"
   ]
  },
  {
   "cell_type": "code",
   "execution_count": 13,
   "id": "22dab009",
   "metadata": {},
   "outputs": [
    {
     "name": "stdout",
     "output_type": "stream",
     "text": [
      "Diego ugalde\n",
      "Diego ugalde\n",
      "Mon arenas\n",
      "Mon arenas\n",
      "Vicky cabral\n",
      "Vicky cabral\n",
      "Z qiu\n",
      "Z qiu\n",
      "Pri biswas\n",
      "Pri biswas\n",
      "Carlos yupanqui\n",
      "Carlos yupanqui\n",
      "Ana haza\n",
      "Ana haza\n",
      "Gerry reynoso\n",
      "Gerry reynoso\n",
      "July angeles\n",
      "July angeles\n",
      "Chio cerbon\n",
      "Chio cerbon\n",
      "Lily torres\n",
      "Lily torres\n"
     ]
    }
   ],
   "source": [
    "greeting_3(elc_members_name)"
   ]
  },
  {
   "cell_type": "code",
   "execution_count": 14,
   "id": "0dcfb246",
   "metadata": {},
   "outputs": [],
   "source": [
    "test_str = \"Geeks  forGeeks\""
   ]
  },
  {
   "cell_type": "code",
   "execution_count": 15,
   "id": "4cd4c258",
   "metadata": {},
   "outputs": [
    {
     "name": "stdout",
     "output_type": "stream",
     "text": [
      "Geeks  forGeeks\n"
     ]
    }
   ],
   "source": [
    "print(test_str)"
   ]
  },
  {
   "cell_type": "code",
   "execution_count": 16,
   "id": "39f2d2b6",
   "metadata": {},
   "outputs": [],
   "source": [
    "res = \" \" in test_str"
   ]
  },
  {
   "cell_type": "code",
   "execution_count": 17,
   "id": "75a0fa8b",
   "metadata": {},
   "outputs": [
    {
     "name": "stdout",
     "output_type": "stream",
     "text": [
      "True\n"
     ]
    }
   ],
   "source": [
    "print(res)"
   ]
  },
  {
   "cell_type": "code",
   "execution_count": 19,
   "id": "215aeeb0",
   "metadata": {},
   "outputs": [
    {
     "name": "stdout",
     "output_type": "stream",
     "text": [
      "Diego ugalde\n",
      "Diego ugalde\n",
      "Mon arenas\n",
      "Mon arenas\n",
      "Vicky cabral\n",
      "Vicky cabral\n",
      "Z qiu\n",
      "Z qiu\n",
      "Pri biswas\n",
      "Pri biswas\n",
      "Carlos yupanqui\n",
      "Carlos yupanqui\n",
      "Ana haza\n",
      "Ana haza\n",
      "Gerry reynoso\n",
      "Gerry reynoso\n",
      "July angeles\n",
      "July angeles\n",
      "Chio cerbon\n",
      "Chio cerbon\n",
      "Lily torres\n",
      "Lily torres\n"
     ]
    }
   ],
   "source": [
    "greeting_3(elc_members_name)"
   ]
  },
  {
   "cell_type": "code",
   "execution_count": null,
   "id": "515c7689",
   "metadata": {},
   "outputs": [],
   "source": []
  }
 ],
 "metadata": {
  "kernelspec": {
   "display_name": "Python 3 (ipykernel)",
   "language": "python",
   "name": "python3"
  },
  "language_info": {
   "codemirror_mode": {
    "name": "ipython",
    "version": 3
   },
   "file_extension": ".py",
   "mimetype": "text/x-python",
   "name": "python",
   "nbconvert_exporter": "python",
   "pygments_lexer": "ipython3",
   "version": "3.9.12"
  }
 },
 "nbformat": 4,
 "nbformat_minor": 5
}
