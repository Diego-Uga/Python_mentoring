{
 "cells": [
  {
   "cell_type": "code",
   "execution_count": 1,
   "id": "fa458349",
   "metadata": {},
   "outputs": [
    {
     "name": "stdout",
     "output_type": "stream",
     "text": [
      "I drank 3 glasses of water today.\n"
     ]
    }
   ],
   "source": [
    "#Type here. Assign a number to the variable: glass_of_water\n",
    "\n",
    "glass_of_water= 3\n",
    "\n",
    "print(\"I drank\", glass_of_water, \"glasses of water today.\")\n",
    "\n"
   ]
  },
  {
   "cell_type": "code",
   "execution_count": 2,
   "id": "ddf7081d",
   "metadata": {},
   "outputs": [
    {
     "name": "stdout",
     "output_type": "stream",
     "text": [
      "4\n"
     ]
    }
   ],
   "source": [
    "#Fill the print function so it prints glass_of_water\n",
    "\n",
    "glass_of_water=3\n",
    "\n",
    "glass_of_water=glass_of_water + 1\n",
    "\n",
    "\n",
    "print(glass_of_water)\n",
    "\n"
   ]
  },
  {
   "cell_type": "code",
   "execution_count": 3,
   "id": "81aa114f",
   "metadata": {},
   "outputs": [
    {
     "ename": "SyntaxError",
     "evalue": "invalid syntax (3917423154.py, line 3)",
     "output_type": "error",
     "traceback": [
      "\u001b[0;36m  Input \u001b[0;32mIn [3]\u001b[0;36m\u001b[0m\n\u001b[0;31m    men_stepped_on_the_moon=\u001b[0m\n\u001b[0m                            ^\u001b[0m\n\u001b[0;31mSyntaxError\u001b[0m\u001b[0;31m:\u001b[0m invalid syntax\n"
     ]
    }
   ],
   "source": [
    "#Assign an integer to the variable, then print it.\n",
    "\n",
    "men_stepped_on_the_moon=\n",
    "print()\n"
   ]
  },
  {
   "cell_type": "code",
   "execution_count": 4,
   "id": "fb8a85eb",
   "metadata": {},
   "outputs": [
    {
     "ename": "SyntaxError",
     "evalue": "invalid syntax (2679552784.py, line 3)",
     "output_type": "error",
     "traceback": [
      "\u001b[0;36m  Input \u001b[0;32mIn [4]\u001b[0;36m\u001b[0m\n\u001b[0;31m    my_reason_for_coding=\u001b[0m\n\u001b[0m                         ^\u001b[0m\n\u001b[0;31mSyntaxError\u001b[0m\u001b[0;31m:\u001b[0m invalid syntax\n"
     ]
    }
   ],
   "source": [
    "#Type a couple of words or a short sentence for your variable, then print it.\n",
    "\n",
    "my_reason_for_coding=\n",
    "print()"
   ]
  },
  {
   "cell_type": "code",
   "execution_count": 5,
   "id": "21981d5a",
   "metadata": {},
   "outputs": [
    {
     "ename": "SyntaxError",
     "evalue": "invalid syntax (2850882771.py, line 6)",
     "output_type": "error",
     "traceback": [
      "\u001b[0;36m  Input \u001b[0;32mIn [5]\u001b[0;36m\u001b[0m\n\u001b[0;31m    global_mean_sea_level_2018=\u001b[0m\n\u001b[0m                               ^\u001b[0m\n\u001b[0;31mSyntaxError\u001b[0m\u001b[0;31m:\u001b[0m invalid syntax\n"
     ]
    }
   ],
   "source": [
    "#Assign a float with 2 decimals to the variable below. If you don't wan't to search the value you can check out Hint 1.\n",
    "\n",
    "global_mean_sea_level_2018=21\n",
    "\n",
    "#Type your code here.\n",
    "global_mean_sea_level_2018=\n",
    "\n",
    "\n",
    "print(global_mean_sea_level_2018)"
   ]
  },
  {
   "cell_type": "code",
   "execution_count": 6,
   "id": "355cd78c",
   "metadata": {},
   "outputs": [
    {
     "ename": "SyntaxError",
     "evalue": "invalid syntax (3882308178.py, line 3)",
     "output_type": "error",
     "traceback": [
      "\u001b[0;36m  Input \u001b[0;32mIn [6]\u001b[0;36m\u001b[0m\n\u001b[0;31m    staying_alive=\u001b[0m\n\u001b[0m                  ^\u001b[0m\n\u001b[0;31mSyntaxError\u001b[0m\u001b[0;31m:\u001b[0m invalid syntax\n"
     ]
    }
   ],
   "source": [
    "#Assign True or False to the variable below then print it.\n",
    "\n",
    "staying_alive=\n",
    "print(staying_alive)"
   ]
  },
  {
   "cell_type": "code",
   "execution_count": 7,
   "id": "859f4e95",
   "metadata": {},
   "outputs": [
    {
     "name": "stdout",
     "output_type": "stream",
     "text": [
      "<class 'int'>\n"
     ]
    }
   ],
   "source": [
    "men_stepped_on_the_moon=12\n",
    "\n",
    "#Type your code here.\n",
    "\n",
    "answer_1=type(men_stepped_on_the_moon)\n",
    "\n",
    "\n",
    "print(answer_1)\n"
   ]
  },
  {
   "cell_type": "code",
   "execution_count": 8,
   "id": "ee819f32",
   "metadata": {},
   "outputs": [
    {
     "name": "stdout",
     "output_type": "stream",
     "text": [
      "<class 'str'>\n"
     ]
    }
   ],
   "source": [
    "my_reason_for_coding=\"intergalactic travel\"\n",
    "\n",
    "#Type your code here.\n",
    "\n",
    "answer_2= type(my_reason_for_coding)\n",
    "\n",
    "\n",
    "print (answer_2)\n"
   ]
  },
  {
   "cell_type": "code",
   "execution_count": 9,
   "id": "daba3b94",
   "metadata": {},
   "outputs": [
    {
     "name": "stdout",
     "output_type": "stream",
     "text": [
      "<class 'float'>\n"
     ]
    }
   ],
   "source": [
    "global_mean_sea_level_delta_2018=21.36\n",
    "\n",
    "#Type your code here.\n",
    "\n",
    "answer_3=type(global_mean_sea_level_delta_2018)\n",
    "\n",
    "\n",
    "print(answer_3)"
   ]
  },
  {
   "cell_type": "code",
   "execution_count": 10,
   "id": "b0094795",
   "metadata": {},
   "outputs": [
    {
     "name": "stdout",
     "output_type": "stream",
     "text": [
      "<class 'int'>\n"
     ]
    }
   ],
   "source": [
    "men_stepped_on_the_moon=12\n",
    "\n",
    "#Type your code here.\n",
    "\n",
    "answer_1=type(men_stepped_on_the_moon)\n",
    "\n",
    "\n",
    "print(answer_1)"
   ]
  },
  {
   "cell_type": "code",
   "execution_count": 11,
   "id": "5c5317d7",
   "metadata": {},
   "outputs": [
    {
     "name": "stdout",
     "output_type": "stream",
     "text": [
      "<class 'str'>\n"
     ]
    }
   ],
   "source": [
    "my_reason_for_coding=\"intergalactic travel\"\n",
    "\n",
    "#Type your code here.\n",
    "\n",
    "answer_2= type(my_reason_for_coding)\n",
    "\n",
    "\n",
    "print (answer_2)"
   ]
  },
  {
   "cell_type": "code",
   "execution_count": 12,
   "id": "210978ad",
   "metadata": {},
   "outputs": [
    {
     "name": "stdout",
     "output_type": "stream",
     "text": [
      "<class 'float'>\n"
     ]
    }
   ],
   "source": [
    "global_mean_sea_level_delta_2018=21.36\n",
    "\n",
    "#Type your code here.\n",
    "\n",
    "answer_3=type(global_mean_sea_level_delta_2018)\n",
    "\n",
    "\n",
    "print(answer_3)"
   ]
  },
  {
   "cell_type": "code",
   "execution_count": 13,
   "id": "4e4a35db",
   "metadata": {},
   "outputs": [
    {
     "name": "stdout",
     "output_type": "stream",
     "text": [
      "<class 'bool'>\n"
     ]
    }
   ],
   "source": [
    "staying_alive=True\n",
    "\n",
    "#Type your code here.\n",
    "\n",
    "\n",
    "answer_4=type(staying_alive)\n",
    "\n",
    "\n",
    "print(answer_4)"
   ]
  },
  {
   "cell_type": "code",
   "execution_count": 14,
   "id": "b7effb16",
   "metadata": {},
   "outputs": [
    {
     "name": "stdout",
     "output_type": "stream",
     "text": [
      "10\n"
     ]
    }
   ],
   "source": [
    "#my_grade variable is a string (because it's in quotes). On line 9, convert it to an integer.\n",
    "\n",
    "my_grade=\"10\"\n",
    "\n",
    "answer_5=int(my_grade)\n",
    "\n",
    "\n",
    "print(answer_5)"
   ]
  },
  {
   "cell_type": "code",
   "execution_count": 15,
   "id": "b1f02a60",
   "metadata": {},
   "outputs": [
    {
     "name": "stdout",
     "output_type": "stream",
     "text": [
      "97\n"
     ]
    }
   ],
   "source": [
    "#my_temp variable is a float (because it has decimals). On line 9, convert it to an integer.\n",
    "\n",
    "my_temp=97.70\n",
    "\n",
    "answer_6=int(my_temp)\n",
    "\n",
    "\n",
    "print(answer_6)"
   ]
  },
  {
   "cell_type": "code",
   "execution_count": 16,
   "id": "3d7c9bce",
   "metadata": {},
   "outputs": [
    {
     "name": "stdout",
     "output_type": "stream",
     "text": [
      "69.99\n"
     ]
    }
   ],
   "source": [
    "#shoe_price variable is a string (because it's in quotes). On line 9, convert it into a float.\n",
    "\n",
    "shoe_price=\"69.99\"\n",
    "\n",
    "answer_7= float(shoe_price)\n",
    "\n",
    "\n",
    "print(answer_7)"
   ]
  },
  {
   "cell_type": "code",
   "execution_count": 17,
   "id": "8a484c3c",
   "metadata": {},
   "outputs": [
    {
     "name": "stdout",
     "output_type": "stream",
     "text": [
      "In 2018 gross product of the world (GWP) was 84.84 in trillion US dollars.\n",
      "<class 'str'>\n"
     ]
    }
   ],
   "source": [
    "#GWP denotes the total economic activity created by the world population collectively in a year.\n",
    "\n",
    "gross_world_product=84.84\n",
    "\n",
    "gwp_str=str(gross_world_product)\n",
    "\n",
    "answer_8=\"In 2018 gross product of the world (GWP) was \" + gwp_str + \" in trillion US dollars.\"\n",
    "\n",
    "\n",
    "print(answer_8)\n",
    "\n",
    "print(type(answer_8))"
   ]
  },
  {
   "cell_type": "code",
   "execution_count": 1,
   "id": "d9381d84",
   "metadata": {},
   "outputs": [
    {
     "name": "stdout",
     "output_type": "stream",
     "text": [
      "<class 'list'>\n"
     ]
    }
   ],
   "source": [
    "#Create an empty list on line 3 and assign its type on line 4\n",
    "\n",
    "gift_list= list()\n",
    "\n",
    "answer_1= type(gift_list)\n",
    "\n",
    "\n",
    "print(answer_1)\n",
    "\n"
   ]
  },
  {
   "cell_type": "code",
   "execution_count": 2,
   "id": "6d550782",
   "metadata": {},
   "outputs": [
    {
     "name": "stdout",
     "output_type": "stream",
     "text": [
      "<class 'dict'>\n"
     ]
    }
   ],
   "source": [
    "#Create an empty dictionary on line 3 and assign its type on line 4\n",
    "\n",
    "grocery_items= dict()\n",
    "\n",
    "answer_2= type(grocery_items)\n",
    "\n",
    "\n",
    "print(answer_2)\n",
    "\n"
   ]
  },
  {
   "cell_type": "code",
   "execution_count": 3,
   "id": "1d0245ff",
   "metadata": {},
   "outputs": [
    {
     "name": "stdout",
     "output_type": "stream",
     "text": [
      "<class 'tuple'>\n"
     ]
    }
   ],
   "source": [
    "#Create an empty tuple on line 3 and assign its type on line 4\n",
    "\n",
    "bucket_list= tuple()\n",
    "\n",
    "answer_2= type(bucket_list)\n",
    "\n",
    "\n",
    "print(answer_2)\n",
    "\n",
    "\n"
   ]
  },
  {
   "cell_type": "code",
   "execution_count": 4,
   "id": "46ec8d85",
   "metadata": {},
   "outputs": [
    {
     "name": "stdout",
     "output_type": "stream",
     "text": [
      "['ipad', 'telefono', 'oreos']\n"
     ]
    }
   ],
   "source": [
    "#Fill in the right side of equation on line 4 so that gift_list \n",
    "#is assigned to a list with values in it.\n",
    "\n",
    "gift_list= [\"ipad\", \"telefono\", \"oreos\"]\n",
    "print(gift_list)\n"
   ]
  },
  {
   "cell_type": "code",
   "execution_count": 5,
   "id": "0985cc93",
   "metadata": {},
   "outputs": [
    {
     "name": "stdout",
     "output_type": "stream",
     "text": [
      "{'bananas': 8, 'leches': ['deslactosada', 'entera', 'light'], 'notas': 'tiene que estar listo antes del annio nuevo', 'comida_de_navidad': {'plato_1': 'pavo', 'plato_2': 'romeritos', 'plato_3': 'bacalao'}, 'fecha_de_navidad': '24 de diciembre'}\n"
     ]
    }
   ],
   "source": [
    "#Fill in the right side of equation on line 3 so that grocery_list \n",
    "#is assigned to a dictionary with values in it.\n",
    "\n",
    "grocery_list= {'bananas':8, 'leches':['deslactosada', 'entera', 'light'],\n",
    "               'notas': 'tiene que estar listo antes del annio nuevo',\n",
    "               'comida_de_navidad': {'plato_1':'pavo', 'plato_2':'romeritos', \n",
    "                                     'plato_3': 'bacalao'},\n",
    "              'fecha_de_navidad':('24 de diciembre')}\n",
    "                                     \n",
    "\n",
    "\n",
    "print(grocery_list)\n",
    "\n"
   ]
  },
  {
   "cell_type": "code",
   "execution_count": 6,
   "id": "d70b9ad5",
   "metadata": {},
   "outputs": [
    {
     "name": "stdout",
     "output_type": "stream",
     "text": [
      "('comer chocolates', 'comer pan dulce', 'comer bananas')\n"
     ]
    }
   ],
   "source": [
    "#Fill in the right side of equation on line 3 so that bucket_list is assigned to a tuple with values in it.\n",
    "\n",
    "bucket_list= ('comer chocolates', 'comer pan dulce', 'comer bananas')\n",
    "print(bucket_list)\n",
    "\n"
   ]
  },
  {
   "cell_type": "code",
   "execution_count": 1,
   "id": "0ae24311",
   "metadata": {},
   "outputs": [
    {
     "name": "stdout",
     "output_type": "stream",
     "text": [
      "11\n"
     ]
    }
   ],
   "source": [
    "lst=[11, 100, 99, 1000, 999]\n",
    "answer_1= lst[0]\n",
    "\n",
    "print(answer_1)\n"
   ]
  },
  {
   "cell_type": "code",
   "execution_count": 2,
   "id": "bfa14b90",
   "metadata": {},
   "outputs": [
    {
     "name": "stdout",
     "output_type": "stream",
     "text": [
      "100\n"
     ]
    }
   ],
   "source": [
    "lst=[11, 100, 101, 999, 1001]\n",
    "\n",
    "print(lst[1])"
   ]
  },
  {
   "cell_type": "code",
   "execution_count": 3,
   "id": "76c1c2fe",
   "metadata": {},
   "outputs": [
    {
     "name": "stdout",
     "output_type": "stream",
     "text": [
      "1001\n"
     ]
    }
   ],
   "source": [
    "lst=[11, 100, 101, 999, 1001]\n",
    "#Type your answer here.\n",
    "\n",
    "answer_1= lst[-1]\n",
    "\n",
    "print(answer_1)\n"
   ]
  },
  {
   "cell_type": "code",
   "execution_count": 4,
   "id": "e33ea75d",
   "metadata": {},
   "outputs": [
    {
     "name": "stdout",
     "output_type": "stream",
     "text": [
      "['socks', '4K drone', 'wine', 'jam', 'pajamas']\n"
     ]
    }
   ],
   "source": [
    "gift_list=['socks', '4K drone', 'wine', 'jam']\n",
    "# Type your code here.\n",
    "gift_list.append('pajamas')\n",
    "\n",
    "\n",
    "print(gift_list)\n"
   ]
  },
  {
   "cell_type": "code",
   "execution_count": 5,
   "id": "c432431f",
   "metadata": {},
   "outputs": [
    {
     "name": "stdout",
     "output_type": "stream",
     "text": [
      "['socks', '4K drone', 'wine', 'jam', ['socks', 'tshirt', 'pajamas']]\n"
     ]
    }
   ],
   "source": [
    "gift_list=['socks', '4K drone', 'wine', 'jam']\n",
    "# Type your code here.\n",
    "gift_list.append([\"socks\", \"tshirt\", \"pajamas\"])\n",
    "\n",
    "\n",
    "print(gift_list)"
   ]
  },
  {
   "cell_type": "code",
   "execution_count": 6,
   "id": "c73493bc",
   "metadata": {},
   "outputs": [
    {
     "name": "stdout",
     "output_type": "stream",
     "text": [
      "['socks', '4K drone', 'slippers', 'wine', 'jam']\n"
     ]
    }
   ],
   "source": [
    "gift_list=['socks', '4K drone', 'wine', 'jam']\n",
    "# Type your code here.\n",
    "gift_list.insert(2,'slippers')\n",
    "\n",
    "\n",
    "print(gift_list)"
   ]
  },
  {
   "cell_type": "code",
   "execution_count": 7,
   "id": "3c79cffc",
   "metadata": {},
   "outputs": [
    {
     "name": "stdout",
     "output_type": "stream",
     "text": [
      "8\n"
     ]
    }
   ],
   "source": [
    "\n",
    "lst=[55, 777, 54, 6, 76, 101, 1, 2, 8679, 123, 99]\n",
    "#  Type your code here.\n",
    "\n",
    "answer_1= lst.index(8679)\n",
    "\n",
    "print(answer_1)\n"
   ]
  },
  {
   "cell_type": "code",
   "execution_count": 8,
   "id": "93e71a4a",
   "metadata": {},
   "outputs": [
    {
     "name": "stdout",
     "output_type": "stream",
     "text": [
      "['CRV', 'Outback', 'XC90', 'GL', 'Cherokee', 'Escalade', ['Navigator', 'Suburban']]\n"
     ]
    }
   ],
   "source": [
    "lst=[\"CRV\", \"Outback\", \"XC90\", \"GL\", \"Cherokee\", \"Escalade\"]\n",
    "#  Type your code here.\n",
    "lst.append([\"Navigator\", \"Suburban\"])\n",
    "\n",
    "\n",
    "print(lst)\n"
   ]
  },
  {
   "cell_type": "code",
   "execution_count": 9,
   "id": "0132cdd3",
   "metadata": {},
   "outputs": [
    {
     "name": "stdout",
     "output_type": "stream",
     "text": [
      "[55, 777, 54, 6, 76, 101, 1, 2, 8679, 123]\n"
     ]
    }
   ],
   "source": [
    "lst=[55, 777, 54, 6, 76, 101, 1, 2, 8679, 123, 99]\n",
    "#  Type your code here.\n",
    "lst.remove(99)\n",
    "\n",
    "\n",
    "print(lst)\n"
   ]
  },
  {
   "cell_type": "code",
   "execution_count": 10,
   "id": "c26d49b5",
   "metadata": {},
   "outputs": [
    {
     "name": "stdout",
     "output_type": "stream",
     "text": [
      "[99, 123, 8679, 2, 1, 101, 76, 6, 54, 777, 55]\n"
     ]
    }
   ],
   "source": [
    "lst=[55, 777, 54, 6, 76, 101, 1, 2, 8679, 123, 99]\n",
    "#  Type your code here.\n",
    "lst.reverse()\n",
    "\n",
    "\n",
    "print(lst)\n"
   ]
  },
  {
   "cell_type": "code",
   "execution_count": 11,
   "id": "126b81e1",
   "metadata": {},
   "outputs": [
    {
     "name": "stdout",
     "output_type": "stream",
     "text": [
      "4\n"
     ]
    }
   ],
   "source": [
    "lst=[55, 6, 777, 54, 6, 76, 101, 1, 6, 2, 6]\n",
    "#  Type your code inside print() function.\n",
    "\n",
    "answer_1= lst.count(6)\n",
    "\n",
    "print(answer_1)"
   ]
  },
  {
   "cell_type": "code",
   "execution_count": 12,
   "id": "905cdd8d",
   "metadata": {},
   "outputs": [
    {
     "name": "stdout",
     "output_type": "stream",
     "text": [
      "1090\n"
     ]
    }
   ],
   "source": [
    "lst=[55, 6, 777, 54, 6, 76, 101, 1, 6, 2, 6]\n",
    "\n",
    "#  Type your code on line 4:\n",
    "answer_1= sum(lst)\n",
    "\n",
    "print(answer_1)\n"
   ]
  },
  {
   "cell_type": "code",
   "execution_count": 13,
   "id": "203cd703",
   "metadata": {},
   "outputs": [
    {
     "name": "stdout",
     "output_type": "stream",
     "text": [
      "1\n"
     ]
    }
   ],
   "source": [
    "lst=[55, 6, 777, 54, 6, 76, 101, 1, 6, 2, 6]\n",
    "\n",
    "#  Type your code on line 4:\n",
    "answer_1= min(lst)\n",
    "\n",
    "print(answer_1)"
   ]
  },
  {
   "cell_type": "code",
   "execution_count": 14,
   "id": "f65cd096",
   "metadata": {},
   "outputs": [
    {
     "name": "stdout",
     "output_type": "stream",
     "text": [
      "777\n"
     ]
    }
   ],
   "source": [
    "lst=[55, 6, 777, 54, 6, 76, 101, 1, 6, 2, 6]\n",
    "\n",
    "#  Type your code on line 4:\n",
    "answer_1= max(lst)\n",
    "\n",
    "print(answer_1)"
   ]
  },
  {
   "cell_type": "code",
   "execution_count": 1,
   "id": "e59acac3",
   "metadata": {},
   "outputs": [
    {
     "name": "stdout",
     "output_type": "stream",
     "text": [
      "11\n"
     ]
    }
   ],
   "source": [
    "tt=(11, 100, 99, 1000, 999)\n",
    "\n",
    "answer_1= tt[0]\n",
    "\n",
    "\n",
    "print(answer_1)\n",
    "\n"
   ]
  },
  {
   "cell_type": "code",
   "execution_count": 2,
   "id": "96cd1f00",
   "metadata": {},
   "outputs": [
    {
     "name": "stdout",
     "output_type": "stream",
     "text": [
      "101\n"
     ]
    }
   ],
   "source": [
    "tt=(11, 100, 101, 999, 1001)\n",
    "\n",
    "#Type your answer here.\n",
    "\n",
    "answer_1= tt[2]\n",
    "\n",
    "print(answer_1)\n"
   ]
  },
  {
   "cell_type": "code",
   "execution_count": 3,
   "id": "59e90ee2",
   "metadata": {},
   "outputs": [
    {
     "name": "stdout",
     "output_type": "stream",
     "text": [
      "999\n"
     ]
    }
   ],
   "source": [
    "lst=(11, 100, 101, 999, 1001)\n",
    "\n",
    "#Type your answer here.\n",
    "\n",
    "answer_1= lst[-2]\n",
    "\n",
    "print(answer_1)"
   ]
  },
  {
   "cell_type": "code",
   "execution_count": 4,
   "id": "3520e848",
   "metadata": {},
   "outputs": [
    {
     "name": "stdout",
     "output_type": "stream",
     "text": [
      "7\n"
     ]
    }
   ],
   "source": [
    "\n",
    "tt=(55, 777, 54, 6, 76, 101, 1, 2, 8679, 123, 99)\n",
    "#  Type your code here.\n",
    "\n",
    "answer_1= tt.index(2)\n",
    "\n",
    "print(answer_1)\n"
   ]
  },
  {
   "cell_type": "code",
   "execution_count": 5,
   "id": "2f7b6df7",
   "metadata": {},
   "outputs": [
    {
     "name": "stdout",
     "output_type": "stream",
     "text": [
      "2\n"
     ]
    }
   ],
   "source": [
    "tt=(55, 6, 777, 54, 6, 76, 7777, 1, 777, 2, 6)\n",
    "\n",
    "#  Type your code here.\n",
    "\n",
    "answer_1= tt.count(777)\n",
    "\n",
    "print(answer_1)"
   ]
  },
  {
   "cell_type": "code",
   "execution_count": 6,
   "id": "d57e4661",
   "metadata": {},
   "outputs": [
    {
     "name": "stdout",
     "output_type": "stream",
     "text": [
      "1306\n"
     ]
    }
   ],
   "source": [
    "tt=(42, 1092, 11, 88, 65, 2, 6)\n",
    "\n",
    "#  Type your code on line 4:\n",
    "\n",
    "ans_1= sum(tt)\n",
    "\n",
    "\n",
    "print(ans_1)"
   ]
  },
  {
   "cell_type": "code",
   "execution_count": 7,
   "id": "1f9a76a4",
   "metadata": {},
   "outputs": [
    {
     "name": "stdout",
     "output_type": "stream",
     "text": [
      "9\n"
     ]
    }
   ],
   "source": [
    "tt=(66, 555, 11, 101, 9, 1001)\n",
    "\n",
    "#  Type your code on line 4:\n",
    "\n",
    "ans_1= min(tt)\n",
    "\n",
    "\n",
    "print(ans_1)"
   ]
  },
  {
   "cell_type": "code",
   "execution_count": 8,
   "id": "2e6e2a30",
   "metadata": {},
   "outputs": [
    {
     "name": "stdout",
     "output_type": "stream",
     "text": [
      "1001\n"
     ]
    }
   ],
   "source": [
    "tt=(66, 555, 11, 101, 9, 1001)\n",
    "\n",
    "#  Type your code on line 4:\n",
    "\n",
    "ans_1= max(tt)\n",
    "\n",
    "\n",
    "print(ans_1)"
   ]
  },
  {
   "cell_type": "code",
   "execution_count": 9,
   "id": "fc35630d",
   "metadata": {},
   "outputs": [
    {
     "name": "stdout",
     "output_type": "stream",
     "text": [
      "-427\n"
     ]
    }
   ],
   "source": [
    "dict={\"name\": \"Plato\", \"country\": \"Ancient Greece\", \"born\": -427, \"teacher\": \"Socrates\", \"student\": \"Aristotle\"}\n",
    "\n",
    "#Type your answer below.\n",
    "answer_1= dict[\"born\"]\n",
    "\n",
    "print(answer_1)\n",
    "\n"
   ]
  },
  {
   "cell_type": "code",
   "execution_count": 10,
   "id": "d128fa25",
   "metadata": {},
   "outputs": [
    {
     "name": "stdout",
     "output_type": "stream",
     "text": [
      "-428\n"
     ]
    }
   ],
   "source": [
    "dict={\"name\": \"Plato\", \"country\": \"Ancient Greece\", \"born\": -427, \"teacher\": \"Socrates\", \"student\": \"Aristotle\"}\n",
    "\n",
    "#Type your answer below.\n",
    "dict[\"born\"] = -428\n",
    "\n",
    "print(dict[\"born\"])\n",
    "\n"
   ]
  },
  {
   "cell_type": "code",
   "execution_count": 11,
   "id": "6d060ab9",
   "metadata": {},
   "outputs": [
    {
     "name": "stdout",
     "output_type": "stream",
     "text": [
      "{'name': 'Plato', 'country': 'Ancient Greece', 'born': -427, 'teacher': 'Socrates', 'student': 'Aristotle', 'work': ['Apology', 'Phaedo', 'Republic', 'Symposium']}\n"
     ]
    }
   ],
   "source": [
    "dict={\"name\": \"Plato\", \"country\": \"Ancient Greece\", \"born\": -427, \"teacher\": \"Socrates\", \"student\": \"Aristotle\"}\n",
    "\n",
    "#Type your answer below.\n",
    "dict[\"work\"]=[\"Apology\", \"Phaedo\", \"Republic\", \"Symposium\"]\n",
    "\n",
    "print(dict)\n",
    "\n",
    "\n"
   ]
  },
  {
   "cell_type": "code",
   "execution_count": 12,
   "id": "390936cc",
   "metadata": {},
   "outputs": [
    {
     "name": "stdout",
     "output_type": "stream",
     "text": [
      "{\"son's name\": 'Lucas', \"son's eyes\": 'green', \"son's height\": 34, \"son's weight\": 25}\n"
     ]
    }
   ],
   "source": [
    "dict={\"son's name\": \"Lucas\", \"son's eyes\": \"green\", \"son's height\": 32, \"son's weight\": 25}\n",
    "\n",
    "#Type your answer below.\n",
    "dict[\"son's height\"]=dict[\"son's height\"]+2\n",
    "\n",
    "print(dict)\n",
    "\n"
   ]
  },
  {
   "cell_type": "code",
   "execution_count": 13,
   "id": "16cda6e7",
   "metadata": {},
   "outputs": [
    {
     "name": "stdout",
     "output_type": "stream",
     "text": [
      "dict_items([(\"son's name\", 'Lucas'), (\"son's eyes\", 'green'), (\"son's height\", 32), (\"son's weight\", 25)])\n"
     ]
    }
   ],
   "source": [
    "dict={\"son's name\": \"Lucas\", \"son's eyes\": \"green\", \"son's height\": 32, \"son's weight\": 25}\n",
    "\n",
    "#Type your answer below.\n",
    "ans_1= dict.items()\n",
    "\n",
    "print(ans_1)\n",
    "\n",
    "\n"
   ]
  },
  {
   "cell_type": "code",
   "execution_count": 14,
   "id": "e4c1ec54",
   "metadata": {},
   "outputs": [
    {
     "name": "stdout",
     "output_type": "stream",
     "text": [
      "green\n"
     ]
    }
   ],
   "source": [
    "dict = {\"son's name\": \"Lucas\", \"son's eye color\": \"green\", \"son's height\": 32, \"son's weight\": 25}\n",
    "\n",
    "#Type your answer inside the print.\n",
    "ans_1= dict.get(\"son's eye color\")\n",
    "\n",
    "print (ans_1)\n",
    "\n",
    "\n"
   ]
  },
  {
   "cell_type": "code",
   "execution_count": 15,
   "id": "98d9eaeb",
   "metadata": {},
   "outputs": [
    {
     "name": "stdout",
     "output_type": "stream",
     "text": [
      "2\n"
     ]
    }
   ],
   "source": [
    "dict={\"son's name\": \"Lucas\", \"son's eye color\": \"green\", \"son's height\": 32, \"son's weight\": 25}\n",
    "\n",
    "#Type your answer here.\n",
    "ans_1= dict.get(\"son's age\",2)\n",
    "\n",
    "print(ans_1)\n",
    "\n"
   ]
  },
  {
   "cell_type": "code",
   "execution_count": 16,
   "id": "7b5c3638",
   "metadata": {},
   "outputs": [
    {
     "name": "stdout",
     "output_type": "stream",
     "text": [
      "{}\n"
     ]
    }
   ],
   "source": [
    "dict={\"son's name\": \"Lucas\", \"son's eye color\": \"green\", \"son's height\": 32, \"son's weight\": 25}\n",
    "\n",
    "#clear the dictionary here then print it.\n",
    "dict.clear()\n",
    "\n",
    "print(dict)\n",
    "\n"
   ]
  },
  {
   "cell_type": "code",
   "execution_count": 17,
   "id": "b12b32df",
   "metadata": {},
   "outputs": [
    {
     "name": "stdout",
     "output_type": "stream",
     "text": [
      "4\n"
     ]
    }
   ],
   "source": [
    "dict={\"son's name\": \"Lucas\", \"son's eye color\": \"green\", \"son's height\": 32, \"son's weight\": 25}\n",
    "\n",
    "#Write your answer here.\n",
    "ans_1=len(dict)\n",
    "\n",
    "print(ans_1)\n",
    "\n"
   ]
  },
  {
   "cell_type": "code",
   "execution_count": 18,
   "id": "9c006e73",
   "metadata": {},
   "outputs": [
    {
     "name": "stdout",
     "output_type": "stream",
     "text": [
      "son's weight\n"
     ]
    }
   ],
   "source": [
    "dict={\"son's name\": \"Lucas\", \"son's eye color\": \"green\", \"son's height\": 32, \"son's weight\": 25}\n",
    "\n",
    "#Write your answer here.\n",
    "ans_1=max(dict)\n",
    "\n",
    "print(ans_1)\n",
    "\n"
   ]
  },
  {
   "cell_type": "code",
   "execution_count": 19,
   "id": "e539d7ab",
   "metadata": {},
   "outputs": [
    {
     "name": "stdout",
     "output_type": "stream",
     "text": [
      "son's eye color\n"
     ]
    }
   ],
   "source": [
    "dict={\"son's name\": \"Lucas\", \"son's eye color\": \"green\", \"son's height\": 32, \"son's weight\": 25}\n",
    "\n",
    "#Write your answer here.\n",
    "ans_1= min(dict)\n",
    "\n",
    "print(ans_1)\n",
    "\n"
   ]
  },
  {
   "cell_type": "code",
   "execution_count": null,
   "id": "abccca95",
   "metadata": {},
   "outputs": [],
   "source": []
  }
 ],
 "metadata": {
  "kernelspec": {
   "display_name": "Python 3 (ipykernel)",
   "language": "python",
   "name": "python3"
  },
  "language_info": {
   "codemirror_mode": {
    "name": "ipython",
    "version": 3
   },
   "file_extension": ".py",
   "mimetype": "text/x-python",
   "name": "python",
   "nbconvert_exporter": "python",
   "pygments_lexer": "ipython3",
   "version": "3.9.12"
  }
 },
 "nbformat": 4,
 "nbformat_minor": 5
}
